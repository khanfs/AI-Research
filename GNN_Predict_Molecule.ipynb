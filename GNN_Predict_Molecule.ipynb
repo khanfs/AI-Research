{
  "nbformat": 4,
  "nbformat_minor": 0,
  "metadata": {
    "colab": {
      "provenance": [],
      "authorship_tag": "ABX9TyNs4xqH4eK5ulXGC7fHbqB0",
      "include_colab_link": true
    },
    "kernelspec": {
      "name": "python3",
      "display_name": "Python 3"
    },
    "language_info": {
      "name": "python"
    }
  },
  "cells": [
    {
      "cell_type": "markdown",
      "metadata": {
        "id": "view-in-github",
        "colab_type": "text"
      },
      "source": [
        "<a href=\"https://colab.research.google.com/github/khanfs/AI-Research/blob/main/GNN_Predict_Molecule.ipynb\" target=\"_parent\"><img src=\"https://colab.research.google.com/assets/colab-badge.svg\" alt=\"Open In Colab\"/></a>"
      ]
    },
    {
      "cell_type": "markdown",
      "source": [
        "# **Graph Neural Network: Molecular Property Predicton**\n",
        "\n",
        "Graph Neural Network (GNN) constructed to predict the solvation-free energy (expt) of small organic molecules using their chemical structures in SMILES format. The GNN model is based on AttentiveFP, a message-passing neural network (MPNN) that can incorporate attention mechanisms for molecule representation learning. \n",
        "\n",
        "The training data is loaded from a CSV file containing the SMILES and expt values of a set of molecules. The dataset is split into three parts for training, validation, and testing, respectively, using a scaffold splitter function. The model is trained using the Smooth L1 loss function and the Adam optimizer, with the R^2 metric used for evaluating the model performance on the validation and test sets. The final test R^2 value is reported at the end of the script. The code uses several Python libraries, including RDKit, DGL, and PyTorch."
      ],
      "metadata": {
        "id": "uH3_d3OHyfmA"
      }
    },
    {
      "cell_type": "code",
      "execution_count": 1,
      "metadata": {
        "colab": {
          "base_uri": "https://localhost:8080/"
        },
        "id": "ZaemKT0Wnzk-",
        "outputId": "0c9e0196-ce9c-43b0-a402-9e1f07e9dc6c"
      },
      "outputs": [
        {
          "output_type": "stream",
          "name": "stdout",
          "text": [
            "Looking in indexes: https://pypi.org/simple, https://us-python.pkg.dev/colab-wheels/public/simple/\n",
            "Requirement already satisfied: torch in /usr/local/lib/python3.9/dist-packages (1.13.1+cu116)\n",
            "Requirement already satisfied: typing-extensions in /usr/local/lib/python3.9/dist-packages (from torch) (4.5.0)\n"
          ]
        }
      ],
      "source": [
        "! pip install torch"
      ]
    },
    {
      "cell_type": "code",
      "source": [
        "! pip install dgl"
      ],
      "metadata": {
        "colab": {
          "base_uri": "https://localhost:8080/"
        },
        "id": "wgaD7oMln7N5",
        "outputId": "5ccd3f3c-2f81-4e8c-caba-5e0ee7cc11b4"
      },
      "execution_count": 2,
      "outputs": [
        {
          "output_type": "stream",
          "name": "stdout",
          "text": [
            "Looking in indexes: https://pypi.org/simple, https://us-python.pkg.dev/colab-wheels/public/simple/\n",
            "Requirement already satisfied: dgl in /usr/local/lib/python3.9/dist-packages (1.0.1)\n",
            "Requirement already satisfied: requests>=2.19.0 in /usr/local/lib/python3.9/dist-packages (from dgl) (2.25.1)\n",
            "Requirement already satisfied: networkx>=2.1 in /usr/local/lib/python3.9/dist-packages (from dgl) (3.0)\n",
            "Requirement already satisfied: tqdm in /usr/local/lib/python3.9/dist-packages (from dgl) (4.65.0)\n",
            "Requirement already satisfied: numpy>=1.14.0 in /usr/local/lib/python3.9/dist-packages (from dgl) (1.22.4)\n",
            "Requirement already satisfied: psutil>=5.8.0 in /usr/local/lib/python3.9/dist-packages (from dgl) (5.9.4)\n",
            "Requirement already satisfied: scipy>=1.1.0 in /usr/local/lib/python3.9/dist-packages (from dgl) (1.10.1)\n",
            "Requirement already satisfied: certifi>=2017.4.17 in /usr/local/lib/python3.9/dist-packages (from requests>=2.19.0->dgl) (2022.12.7)\n",
            "Requirement already satisfied: chardet<5,>=3.0.2 in /usr/local/lib/python3.9/dist-packages (from requests>=2.19.0->dgl) (4.0.0)\n",
            "Requirement already satisfied: idna<3,>=2.5 in /usr/local/lib/python3.9/dist-packages (from requests>=2.19.0->dgl) (2.10)\n",
            "Requirement already satisfied: urllib3<1.27,>=1.21.1 in /usr/local/lib/python3.9/dist-packages (from requests>=2.19.0->dgl) (1.26.14)\n"
          ]
        }
      ]
    },
    {
      "cell_type": "markdown",
      "source": [
        "## **DGL-LifeSci** \n",
        "Python [package](lifesci.dgl.ai/index.html) for applying graph neural networks to various tasks in chemistry and biology, on top of PyTorch, DGL, and RDKit. It covers various applications, including:\n",
        "\n",
        "* Molecular property prediction\n",
        "* Generative models\n",
        "* Reaction prediction\n",
        "* Protein-ligand binding affinity prediction"
      ],
      "metadata": {
        "id": "ccJNqwdT5DI2"
      }
    },
    {
      "cell_type": "code",
      "source": [
        "! pip install dgllife"
      ],
      "metadata": {
        "colab": {
          "base_uri": "https://localhost:8080/"
        },
        "id": "9vOEAkvrokp_",
        "outputId": "ebd2f77b-e101-4b05-88a7-e9b3514d722b"
      },
      "execution_count": 3,
      "outputs": [
        {
          "output_type": "stream",
          "name": "stdout",
          "text": [
            "Looking in indexes: https://pypi.org/simple, https://us-python.pkg.dev/colab-wheels/public/simple/\n",
            "Requirement already satisfied: dgllife in /usr/local/lib/python3.9/dist-packages (0.3.2)\n",
            "Requirement already satisfied: networkx>=2.1 in /usr/local/lib/python3.9/dist-packages (from dgllife) (3.0)\n",
            "Requirement already satisfied: hyperopt in /usr/local/lib/python3.9/dist-packages (from dgllife) (0.1.2)\n",
            "Requirement already satisfied: pandas in /usr/local/lib/python3.9/dist-packages (from dgllife) (1.3.5)\n",
            "Requirement already satisfied: requests>=2.22.0 in /usr/local/lib/python3.9/dist-packages (from dgllife) (2.25.1)\n",
            "Requirement already satisfied: scikit-learn>=0.22.2 in /usr/local/lib/python3.9/dist-packages (from dgllife) (1.2.1)\n",
            "Requirement already satisfied: numpy>=1.14.0 in /usr/local/lib/python3.9/dist-packages (from dgllife) (1.22.4)\n",
            "Requirement already satisfied: tqdm in /usr/local/lib/python3.9/dist-packages (from dgllife) (4.65.0)\n",
            "Requirement already satisfied: joblib in /usr/local/lib/python3.9/dist-packages (from dgllife) (1.2.0)\n",
            "Requirement already satisfied: scipy>=1.1.0 in /usr/local/lib/python3.9/dist-packages (from dgllife) (1.10.1)\n",
            "Requirement already satisfied: idna<3,>=2.5 in /usr/local/lib/python3.9/dist-packages (from requests>=2.22.0->dgllife) (2.10)\n",
            "Requirement already satisfied: certifi>=2017.4.17 in /usr/local/lib/python3.9/dist-packages (from requests>=2.22.0->dgllife) (2022.12.7)\n",
            "Requirement already satisfied: urllib3<1.27,>=1.21.1 in /usr/local/lib/python3.9/dist-packages (from requests>=2.22.0->dgllife) (1.26.14)\n",
            "Requirement already satisfied: chardet<5,>=3.0.2 in /usr/local/lib/python3.9/dist-packages (from requests>=2.22.0->dgllife) (4.0.0)\n",
            "Requirement already satisfied: threadpoolctl>=2.0.0 in /usr/local/lib/python3.9/dist-packages (from scikit-learn>=0.22.2->dgllife) (3.1.0)\n",
            "Requirement already satisfied: six in /usr/local/lib/python3.9/dist-packages (from hyperopt->dgllife) (1.15.0)\n",
            "Requirement already satisfied: future in /usr/local/lib/python3.9/dist-packages (from hyperopt->dgllife) (0.16.0)\n",
            "Requirement already satisfied: pymongo in /usr/local/lib/python3.9/dist-packages (from hyperopt->dgllife) (4.3.3)\n",
            "Requirement already satisfied: python-dateutil>=2.7.3 in /usr/local/lib/python3.9/dist-packages (from pandas->dgllife) (2.8.2)\n",
            "Requirement already satisfied: pytz>=2017.3 in /usr/local/lib/python3.9/dist-packages (from pandas->dgllife) (2022.7.1)\n",
            "Requirement already satisfied: dnspython<3.0.0,>=1.16.0 in /usr/local/lib/python3.9/dist-packages (from pymongo->hyperopt->dgllife) (2.3.0)\n"
          ]
        }
      ]
    },
    {
      "cell_type": "code",
      "source": [
        "! pip install rdkit"
      ],
      "metadata": {
        "colab": {
          "base_uri": "https://localhost:8080/"
        },
        "id": "C4WyfA2xp6Qu",
        "outputId": "72bcfe98-f9b5-431a-c64b-524656c424e5"
      },
      "execution_count": 4,
      "outputs": [
        {
          "output_type": "stream",
          "name": "stdout",
          "text": [
            "Looking in indexes: https://pypi.org/simple, https://us-python.pkg.dev/colab-wheels/public/simple/\n",
            "Requirement already satisfied: rdkit in /usr/local/lib/python3.9/dist-packages (2022.9.5)\n",
            "Requirement already satisfied: Pillow in /usr/local/lib/python3.9/dist-packages (from rdkit) (8.4.0)\n",
            "Requirement already satisfied: numpy in /usr/local/lib/python3.9/dist-packages (from rdkit) (1.22.4)\n"
          ]
        }
      ]
    },
    {
      "cell_type": "code",
      "source": [
        "! pip install utils"
      ],
      "metadata": {
        "colab": {
          "base_uri": "https://localhost:8080/"
        },
        "id": "i2mfwRRlqY0E",
        "outputId": "6b288517-ddf2-4d7f-a84c-e990e8bbc0bd"
      },
      "execution_count": 5,
      "outputs": [
        {
          "output_type": "stream",
          "name": "stdout",
          "text": [
            "Looking in indexes: https://pypi.org/simple, https://us-python.pkg.dev/colab-wheels/public/simple/\n",
            "Requirement already satisfied: utils in /usr/local/lib/python3.9/dist-packages (1.0.1)\n"
          ]
        }
      ]
    },
    {
      "cell_type": "code",
      "source": [
        "import numpy as np\n",
        "import torch\n",
        "import torch.nn as nn"
      ],
      "metadata": {
        "id": "HJcNBcoMoFKA"
      },
      "execution_count": 6,
      "outputs": []
    },
    {
      "cell_type": "code",
      "source": [
        "from torch.utils.data import DataLoader"
      ],
      "metadata": {
        "id": "P-vDdgpJoSXv"
      },
      "execution_count": 7,
      "outputs": []
    },
    {
      "cell_type": "code",
      "source": [
        "from dgllife.utils import MolToBigraph"
      ],
      "metadata": {
        "id": "xgpS-3_Vv76Q"
      },
      "execution_count": 10,
      "outputs": []
    },
    {
      "cell_type": "markdown",
      "source": [
        "# **1. Graph Construction**"
      ],
      "metadata": {
        "id": "EPHc4nwV0pDk"
      }
    },
    {
      "cell_type": "code",
      "source": [
        "# import RDKIT and rdkit.Chem.Draw\n",
        "from rdkit import Chem\n",
        "from rdkit.Chem.Draw import IPythonConsole\n",
        "\n",
        "# set IPythonConsole.ipython_useSVG to True, which enables SVG-based molecular drawing in Jupyter notebooks\n",
        "IPythonConsole.ipython_useSVG = True\n",
        "smiles = 'c1ncncc1C(=O)[O-]'\n",
        "mol = Chem.MolFromSmiles('c1ncncc1C(=O)[O-]')\n",
        "mol"
      ],
      "metadata": {
        "colab": {
          "base_uri": "https://localhost:8080/",
          "height": 171
        },
        "id": "l9pfqJ0gwDPR",
        "outputId": "51c30d30-973d-46b3-e4a1-9fb08a540ca7"
      },
      "execution_count": 11,
      "outputs": [
        {
          "output_type": "execute_result",
          "data": {
            "text/plain": [
              "<rdkit.Chem.rdchem.Mol at 0x7f5759007a50>"
            ],
            "text/html": [
              "<?xml version='1.0' encoding='iso-8859-1'?>\n",
              "<svg version='1.1' baseProfile='full'\n",
              "              xmlns='http://www.w3.org/2000/svg'\n",
              "                      xmlns:rdkit='http://www.rdkit.org/xml'\n",
              "                      xmlns:xlink='http://www.w3.org/1999/xlink'\n",
              "                  xml:space='preserve'\n",
              "width='450px' height='150px' viewBox='0 0 450 150'>\n",
              "<!-- END OF HEADER -->\n",
              "<rect style='opacity:1.0;fill:#FFFFFF;stroke:none' width='450.0' height='150.0' x='0.0' y='0.0'> </rect>\n",
              "<path class='bond-0 atom-0 atom-1' d='M 199.1,133.2 L 170.2,133.2' style='fill:none;fill-rule:evenodd;stroke:#000000;stroke-width:2.0px;stroke-linecap:butt;stroke-linejoin:miter;stroke-opacity:1' />\n",
              "<path class='bond-0 atom-0 atom-1' d='M 170.2,133.2 L 141.2,133.2' style='fill:none;fill-rule:evenodd;stroke:#0000FF;stroke-width:2.0px;stroke-linecap:butt;stroke-linejoin:miter;stroke-opacity:1' />\n",
              "<path class='bond-0 atom-0 atom-1' d='M 193.3,123.1 L 167.2,123.1' style='fill:none;fill-rule:evenodd;stroke:#000000;stroke-width:2.0px;stroke-linecap:butt;stroke-linejoin:miter;stroke-opacity:1' />\n",
              "<path class='bond-0 atom-0 atom-1' d='M 167.2,123.1 L 141.2,123.1' style='fill:none;fill-rule:evenodd;stroke:#0000FF;stroke-width:2.0px;stroke-linecap:butt;stroke-linejoin:miter;stroke-opacity:1' />\n",
              "<path class='bond-1 atom-1 atom-2' d='M 124.9,121.5 L 111.5,98.2' style='fill:none;fill-rule:evenodd;stroke:#0000FF;stroke-width:2.0px;stroke-linecap:butt;stroke-linejoin:miter;stroke-opacity:1' />\n",
              "<path class='bond-1 atom-1 atom-2' d='M 111.5,98.2 L 98.0,74.9' style='fill:none;fill-rule:evenodd;stroke:#000000;stroke-width:2.0px;stroke-linecap:butt;stroke-linejoin:miter;stroke-opacity:1' />\n",
              "<path class='bond-2 atom-2 atom-3' d='M 98.0,74.9 L 111.5,51.5' style='fill:none;fill-rule:evenodd;stroke:#000000;stroke-width:2.0px;stroke-linecap:butt;stroke-linejoin:miter;stroke-opacity:1' />\n",
              "<path class='bond-2 atom-2 atom-3' d='M 111.5,51.5 L 124.9,28.2' style='fill:none;fill-rule:evenodd;stroke:#0000FF;stroke-width:2.0px;stroke-linecap:butt;stroke-linejoin:miter;stroke-opacity:1' />\n",
              "<path class='bond-2 atom-2 atom-3' d='M 109.7,74.9 L 121.7,54.1' style='fill:none;fill-rule:evenodd;stroke:#000000;stroke-width:2.0px;stroke-linecap:butt;stroke-linejoin:miter;stroke-opacity:1' />\n",
              "<path class='bond-2 atom-2 atom-3' d='M 121.7,54.1 L 133.7,33.3' style='fill:none;fill-rule:evenodd;stroke:#0000FF;stroke-width:2.0px;stroke-linecap:butt;stroke-linejoin:miter;stroke-opacity:1' />\n",
              "<path class='bond-3 atom-3 atom-4' d='M 141.2,16.5 L 170.2,16.5' style='fill:none;fill-rule:evenodd;stroke:#0000FF;stroke-width:2.0px;stroke-linecap:butt;stroke-linejoin:miter;stroke-opacity:1' />\n",
              "<path class='bond-3 atom-3 atom-4' d='M 170.2,16.5 L 199.1,16.5' style='fill:none;fill-rule:evenodd;stroke:#000000;stroke-width:2.0px;stroke-linecap:butt;stroke-linejoin:miter;stroke-opacity:1' />\n",
              "<path class='bond-4 atom-4 atom-5' d='M 199.1,16.5 L 232.8,74.9' style='fill:none;fill-rule:evenodd;stroke:#000000;stroke-width:2.0px;stroke-linecap:butt;stroke-linejoin:miter;stroke-opacity:1' />\n",
              "<path class='bond-4 atom-4 atom-5' d='M 193.3,26.6 L 221.2,74.9' style='fill:none;fill-rule:evenodd;stroke:#000000;stroke-width:2.0px;stroke-linecap:butt;stroke-linejoin:miter;stroke-opacity:1' />\n",
              "<path class='bond-5 atom-5 atom-6' d='M 232.8,74.9 L 300.3,74.9' style='fill:none;fill-rule:evenodd;stroke:#000000;stroke-width:2.0px;stroke-linecap:butt;stroke-linejoin:miter;stroke-opacity:1' />\n",
              "<path class='bond-6 atom-6 atom-7' d='M 303.2,79.9 L 317.2,55.5' style='fill:none;fill-rule:evenodd;stroke:#000000;stroke-width:2.0px;stroke-linecap:butt;stroke-linejoin:miter;stroke-opacity:1' />\n",
              "<path class='bond-6 atom-6 atom-7' d='M 317.2,55.5 L 331.3,31.2' style='fill:none;fill-rule:evenodd;stroke:#FF0000;stroke-width:2.0px;stroke-linecap:butt;stroke-linejoin:miter;stroke-opacity:1' />\n",
              "<path class='bond-6 atom-6 atom-7' d='M 294.4,74.9 L 308.5,50.5' style='fill:none;fill-rule:evenodd;stroke:#000000;stroke-width:2.0px;stroke-linecap:butt;stroke-linejoin:miter;stroke-opacity:1' />\n",
              "<path class='bond-6 atom-6 atom-7' d='M 308.5,50.5 L 322.6,26.1' style='fill:none;fill-rule:evenodd;stroke:#FF0000;stroke-width:2.0px;stroke-linecap:butt;stroke-linejoin:miter;stroke-opacity:1' />\n",
              "<path class='bond-7 atom-6 atom-8' d='M 300.3,74.9 L 313.7,98.1' style='fill:none;fill-rule:evenodd;stroke:#000000;stroke-width:2.0px;stroke-linecap:butt;stroke-linejoin:miter;stroke-opacity:1' />\n",
              "<path class='bond-7 atom-6 atom-8' d='M 313.7,98.1 L 327.1,121.4' style='fill:none;fill-rule:evenodd;stroke:#FF0000;stroke-width:2.0px;stroke-linecap:butt;stroke-linejoin:miter;stroke-opacity:1' />\n",
              "<path class='bond-8 atom-5 atom-0' d='M 232.8,74.9 L 199.1,133.2' style='fill:none;fill-rule:evenodd;stroke:#000000;stroke-width:2.0px;stroke-linecap:butt;stroke-linejoin:miter;stroke-opacity:1' />\n",
              "<path d='M 197.7,133.2 L 199.1,133.2 L 200.8,130.3' style='fill:none;stroke:#000000;stroke-width:2.0px;stroke-linecap:butt;stroke-linejoin:miter;stroke-opacity:1;' />\n",
              "<path d='M 98.7,76.0 L 98.0,74.9 L 98.7,73.7' style='fill:none;stroke:#000000;stroke-width:2.0px;stroke-linecap:butt;stroke-linejoin:miter;stroke-opacity:1;' />\n",
              "<path d='M 197.7,16.5 L 199.1,16.5 L 200.8,19.4' style='fill:none;stroke:#000000;stroke-width:2.0px;stroke-linecap:butt;stroke-linejoin:miter;stroke-opacity:1;' />\n",
              "<path d='M 296.9,74.9 L 300.3,74.9 L 300.9,76.0' style='fill:none;stroke:#000000;stroke-width:2.0px;stroke-linecap:butt;stroke-linejoin:miter;stroke-opacity:1;' />\n",
              "<path class='atom-1' d='M 127.5 123.7\n",
              "L 133.8 133.8\n",
              "Q 134.4 134.8, 135.4 136.6\n",
              "Q 136.4 138.4, 136.4 138.5\n",
              "L 136.4 123.7\n",
              "L 139.0 123.7\n",
              "L 139.0 142.8\n",
              "L 136.4 142.8\n",
              "L 129.6 131.7\n",
              "Q 128.9 130.4, 128.0 128.9\n",
              "Q 127.2 127.5, 127.0 127.0\n",
              "L 127.0 142.8\n",
              "L 124.5 142.8\n",
              "L 124.5 123.7\n",
              "L 127.5 123.7\n",
              "' fill='#0000FF'/>\n",
              "<path class='atom-3' d='M 127.5 6.9\n",
              "L 133.8 17.0\n",
              "Q 134.4 18.0, 135.4 19.8\n",
              "Q 136.4 21.6, 136.4 21.8\n",
              "L 136.4 6.9\n",
              "L 139.0 6.9\n",
              "L 139.0 26.0\n",
              "L 136.4 26.0\n",
              "L 129.6 15.0\n",
              "Q 128.9 13.7, 128.0 12.2\n",
              "Q 127.2 10.7, 127.0 10.2\n",
              "L 127.0 26.0\n",
              "L 124.5 26.0\n",
              "L 124.5 6.9\n",
              "L 127.5 6.9\n",
              "' fill='#0000FF'/>\n",
              "<path class='atom-7' d='M 325.2 16.5\n",
              "Q 325.2 11.9, 327.5 9.4\n",
              "Q 329.7 6.8, 334.0 6.8\n",
              "Q 338.2 6.8, 340.5 9.4\n",
              "Q 342.7 11.9, 342.7 16.5\n",
              "Q 342.7 21.2, 340.4 23.8\n",
              "Q 338.1 26.4, 334.0 26.4\n",
              "Q 329.8 26.4, 327.5 23.8\n",
              "Q 325.2 21.2, 325.2 16.5\n",
              "M 334.0 24.3\n",
              "Q 336.9 24.3, 338.4 22.3\n",
              "Q 340.0 20.4, 340.0 16.5\n",
              "Q 340.0 12.8, 338.4 10.9\n",
              "Q 336.9 9.0, 334.0 9.0\n",
              "Q 331.1 9.0, 329.5 10.9\n",
              "Q 327.9 12.8, 327.9 16.5\n",
              "Q 327.9 20.4, 329.5 22.3\n",
              "Q 331.1 24.3, 334.0 24.3\n",
              "' fill='#FF0000'/>\n",
              "<path class='atom-8' d='M 325.2 133.3\n",
              "Q 325.2 128.7, 327.5 126.1\n",
              "Q 329.7 123.6, 334.0 123.6\n",
              "Q 338.2 123.6, 340.5 126.1\n",
              "Q 342.7 128.7, 342.7 133.3\n",
              "Q 342.7 137.9, 340.4 140.6\n",
              "Q 338.1 143.2, 334.0 143.2\n",
              "Q 329.8 143.2, 327.5 140.6\n",
              "Q 325.2 138.0, 325.2 133.3\n",
              "M 334.0 141.0\n",
              "Q 336.9 141.0, 338.4 139.1\n",
              "Q 340.0 137.1, 340.0 133.3\n",
              "Q 340.0 129.5, 338.4 127.7\n",
              "Q 336.9 125.7, 334.0 125.7\n",
              "Q 331.1 125.7, 329.5 127.6\n",
              "Q 327.9 129.5, 327.9 133.3\n",
              "Q 327.9 137.1, 329.5 139.1\n",
              "Q 331.1 141.0, 334.0 141.0\n",
              "' fill='#FF0000'/>\n",
              "<path class='atom-8' d='M 345.4 126.7\n",
              "L 352.0 126.7\n",
              "L 352.0 128.1\n",
              "L 345.4 128.1\n",
              "L 345.4 126.7\n",
              "' fill='#FF0000'/>\n",
              "</svg>\n"
            ],
            "image/svg+xml": "<?xml version='1.0' encoding='iso-8859-1'?>\n<svg version='1.1' baseProfile='full'\n              xmlns='http://www.w3.org/2000/svg'\n                      xmlns:rdkit='http://www.rdkit.org/xml'\n                      xmlns:xlink='http://www.w3.org/1999/xlink'\n                  xml:space='preserve'\nwidth='450px' height='150px' viewBox='0 0 450 150'>\n<!-- END OF HEADER -->\n<rect style='opacity:1.0;fill:#FFFFFF;stroke:none' width='450.0' height='150.0' x='0.0' y='0.0'> </rect>\n<path class='bond-0 atom-0 atom-1' d='M 199.1,133.2 L 170.2,133.2' style='fill:none;fill-rule:evenodd;stroke:#000000;stroke-width:2.0px;stroke-linecap:butt;stroke-linejoin:miter;stroke-opacity:1' />\n<path class='bond-0 atom-0 atom-1' d='M 170.2,133.2 L 141.2,133.2' style='fill:none;fill-rule:evenodd;stroke:#0000FF;stroke-width:2.0px;stroke-linecap:butt;stroke-linejoin:miter;stroke-opacity:1' />\n<path class='bond-0 atom-0 atom-1' d='M 193.3,123.1 L 167.2,123.1' style='fill:none;fill-rule:evenodd;stroke:#000000;stroke-width:2.0px;stroke-linecap:butt;stroke-linejoin:miter;stroke-opacity:1' />\n<path class='bond-0 atom-0 atom-1' d='M 167.2,123.1 L 141.2,123.1' style='fill:none;fill-rule:evenodd;stroke:#0000FF;stroke-width:2.0px;stroke-linecap:butt;stroke-linejoin:miter;stroke-opacity:1' />\n<path class='bond-1 atom-1 atom-2' d='M 124.9,121.5 L 111.5,98.2' style='fill:none;fill-rule:evenodd;stroke:#0000FF;stroke-width:2.0px;stroke-linecap:butt;stroke-linejoin:miter;stroke-opacity:1' />\n<path class='bond-1 atom-1 atom-2' d='M 111.5,98.2 L 98.0,74.9' style='fill:none;fill-rule:evenodd;stroke:#000000;stroke-width:2.0px;stroke-linecap:butt;stroke-linejoin:miter;stroke-opacity:1' />\n<path class='bond-2 atom-2 atom-3' d='M 98.0,74.9 L 111.5,51.5' style='fill:none;fill-rule:evenodd;stroke:#000000;stroke-width:2.0px;stroke-linecap:butt;stroke-linejoin:miter;stroke-opacity:1' />\n<path class='bond-2 atom-2 atom-3' d='M 111.5,51.5 L 124.9,28.2' style='fill:none;fill-rule:evenodd;stroke:#0000FF;stroke-width:2.0px;stroke-linecap:butt;stroke-linejoin:miter;stroke-opacity:1' />\n<path class='bond-2 atom-2 atom-3' d='M 109.7,74.9 L 121.7,54.1' style='fill:none;fill-rule:evenodd;stroke:#000000;stroke-width:2.0px;stroke-linecap:butt;stroke-linejoin:miter;stroke-opacity:1' />\n<path class='bond-2 atom-2 atom-3' d='M 121.7,54.1 L 133.7,33.3' style='fill:none;fill-rule:evenodd;stroke:#0000FF;stroke-width:2.0px;stroke-linecap:butt;stroke-linejoin:miter;stroke-opacity:1' />\n<path class='bond-3 atom-3 atom-4' d='M 141.2,16.5 L 170.2,16.5' style='fill:none;fill-rule:evenodd;stroke:#0000FF;stroke-width:2.0px;stroke-linecap:butt;stroke-linejoin:miter;stroke-opacity:1' />\n<path class='bond-3 atom-3 atom-4' d='M 170.2,16.5 L 199.1,16.5' style='fill:none;fill-rule:evenodd;stroke:#000000;stroke-width:2.0px;stroke-linecap:butt;stroke-linejoin:miter;stroke-opacity:1' />\n<path class='bond-4 atom-4 atom-5' d='M 199.1,16.5 L 232.8,74.9' style='fill:none;fill-rule:evenodd;stroke:#000000;stroke-width:2.0px;stroke-linecap:butt;stroke-linejoin:miter;stroke-opacity:1' />\n<path class='bond-4 atom-4 atom-5' d='M 193.3,26.6 L 221.2,74.9' style='fill:none;fill-rule:evenodd;stroke:#000000;stroke-width:2.0px;stroke-linecap:butt;stroke-linejoin:miter;stroke-opacity:1' />\n<path class='bond-5 atom-5 atom-6' d='M 232.8,74.9 L 300.3,74.9' style='fill:none;fill-rule:evenodd;stroke:#000000;stroke-width:2.0px;stroke-linecap:butt;stroke-linejoin:miter;stroke-opacity:1' />\n<path class='bond-6 atom-6 atom-7' d='M 303.2,79.9 L 317.2,55.5' style='fill:none;fill-rule:evenodd;stroke:#000000;stroke-width:2.0px;stroke-linecap:butt;stroke-linejoin:miter;stroke-opacity:1' />\n<path class='bond-6 atom-6 atom-7' d='M 317.2,55.5 L 331.3,31.2' style='fill:none;fill-rule:evenodd;stroke:#FF0000;stroke-width:2.0px;stroke-linecap:butt;stroke-linejoin:miter;stroke-opacity:1' />\n<path class='bond-6 atom-6 atom-7' d='M 294.4,74.9 L 308.5,50.5' style='fill:none;fill-rule:evenodd;stroke:#000000;stroke-width:2.0px;stroke-linecap:butt;stroke-linejoin:miter;stroke-opacity:1' />\n<path class='bond-6 atom-6 atom-7' d='M 308.5,50.5 L 322.6,26.1' style='fill:none;fill-rule:evenodd;stroke:#FF0000;stroke-width:2.0px;stroke-linecap:butt;stroke-linejoin:miter;stroke-opacity:1' />\n<path class='bond-7 atom-6 atom-8' d='M 300.3,74.9 L 313.7,98.1' style='fill:none;fill-rule:evenodd;stroke:#000000;stroke-width:2.0px;stroke-linecap:butt;stroke-linejoin:miter;stroke-opacity:1' />\n<path class='bond-7 atom-6 atom-8' d='M 313.7,98.1 L 327.1,121.4' style='fill:none;fill-rule:evenodd;stroke:#FF0000;stroke-width:2.0px;stroke-linecap:butt;stroke-linejoin:miter;stroke-opacity:1' />\n<path class='bond-8 atom-5 atom-0' d='M 232.8,74.9 L 199.1,133.2' style='fill:none;fill-rule:evenodd;stroke:#000000;stroke-width:2.0px;stroke-linecap:butt;stroke-linejoin:miter;stroke-opacity:1' />\n<path d='M 197.7,133.2 L 199.1,133.2 L 200.8,130.3' style='fill:none;stroke:#000000;stroke-width:2.0px;stroke-linecap:butt;stroke-linejoin:miter;stroke-opacity:1;' />\n<path d='M 98.7,76.0 L 98.0,74.9 L 98.7,73.7' style='fill:none;stroke:#000000;stroke-width:2.0px;stroke-linecap:butt;stroke-linejoin:miter;stroke-opacity:1;' />\n<path d='M 197.7,16.5 L 199.1,16.5 L 200.8,19.4' style='fill:none;stroke:#000000;stroke-width:2.0px;stroke-linecap:butt;stroke-linejoin:miter;stroke-opacity:1;' />\n<path d='M 296.9,74.9 L 300.3,74.9 L 300.9,76.0' style='fill:none;stroke:#000000;stroke-width:2.0px;stroke-linecap:butt;stroke-linejoin:miter;stroke-opacity:1;' />\n<path class='atom-1' d='M 127.5 123.7\nL 133.8 133.8\nQ 134.4 134.8, 135.4 136.6\nQ 136.4 138.4, 136.4 138.5\nL 136.4 123.7\nL 139.0 123.7\nL 139.0 142.8\nL 136.4 142.8\nL 129.6 131.7\nQ 128.9 130.4, 128.0 128.9\nQ 127.2 127.5, 127.0 127.0\nL 127.0 142.8\nL 124.5 142.8\nL 124.5 123.7\nL 127.5 123.7\n' fill='#0000FF'/>\n<path class='atom-3' d='M 127.5 6.9\nL 133.8 17.0\nQ 134.4 18.0, 135.4 19.8\nQ 136.4 21.6, 136.4 21.8\nL 136.4 6.9\nL 139.0 6.9\nL 139.0 26.0\nL 136.4 26.0\nL 129.6 15.0\nQ 128.9 13.7, 128.0 12.2\nQ 127.2 10.7, 127.0 10.2\nL 127.0 26.0\nL 124.5 26.0\nL 124.5 6.9\nL 127.5 6.9\n' fill='#0000FF'/>\n<path class='atom-7' d='M 325.2 16.5\nQ 325.2 11.9, 327.5 9.4\nQ 329.7 6.8, 334.0 6.8\nQ 338.2 6.8, 340.5 9.4\nQ 342.7 11.9, 342.7 16.5\nQ 342.7 21.2, 340.4 23.8\nQ 338.1 26.4, 334.0 26.4\nQ 329.8 26.4, 327.5 23.8\nQ 325.2 21.2, 325.2 16.5\nM 334.0 24.3\nQ 336.9 24.3, 338.4 22.3\nQ 340.0 20.4, 340.0 16.5\nQ 340.0 12.8, 338.4 10.9\nQ 336.9 9.0, 334.0 9.0\nQ 331.1 9.0, 329.5 10.9\nQ 327.9 12.8, 327.9 16.5\nQ 327.9 20.4, 329.5 22.3\nQ 331.1 24.3, 334.0 24.3\n' fill='#FF0000'/>\n<path class='atom-8' d='M 325.2 133.3\nQ 325.2 128.7, 327.5 126.1\nQ 329.7 123.6, 334.0 123.6\nQ 338.2 123.6, 340.5 126.1\nQ 342.7 128.7, 342.7 133.3\nQ 342.7 137.9, 340.4 140.6\nQ 338.1 143.2, 334.0 143.2\nQ 329.8 143.2, 327.5 140.6\nQ 325.2 138.0, 325.2 133.3\nM 334.0 141.0\nQ 336.9 141.0, 338.4 139.1\nQ 340.0 137.1, 340.0 133.3\nQ 340.0 129.5, 338.4 127.7\nQ 336.9 125.7, 334.0 125.7\nQ 331.1 125.7, 329.5 127.6\nQ 327.9 129.5, 327.9 133.3\nQ 327.9 137.1, 329.5 139.1\nQ 331.1 141.0, 334.0 141.0\n' fill='#FF0000'/>\n<path class='atom-8' d='M 345.4 126.7\nL 352.0 126.7\nL 352.0 128.1\nL 345.4 128.1\nL 345.4 126.7\n' fill='#FF0000'/>\n</svg>\n",
            "image/png": "[encoded data removed]"
          },
          "metadata": {},
          "execution_count": 11
        }
      ]
    },
    {
      "cell_type": "code",
      "source": [
        "# imports the function MolToBigraph from the dgllife.utils module, which is used to convert a molecule object (represented by mol) into a DGLGraph object\n",
        "from dgllife.utils import MolToBigraph\n",
        "\n",
        "mol_to_g = MolToBigraph() # creates an instance of the MolToBigraph class, which is used to convert a molecule object to a DGLGraph object\n",
        "g = mol_to_g(mol) # uses the MolToBigraph instance to convert the mol object to a DGLGraph object, and assigns it to the variable g\n",
        "print(g)\n",
        "assert g.num_nodes() == mol.GetNumAtoms() # checks that the number of nodes in g is equal to the number of atoms in the original mol object\n",
        "assert g.num_edges() == 2 * mol.GetNumBonds() # checks that the number of edges in g is equal to twice the number of bonds in the original mol object"
      ],
      "metadata": {
        "colab": {
          "base_uri": "https://localhost:8080/"
        },
        "id": "sK3JLbrLwVUM",
        "outputId": "d599be89-72ac-4bd8-ddb5-382351de604a"
      },
      "execution_count": 12,
      "outputs": [
        {
          "output_type": "stream",
          "name": "stdout",
          "text": [
            "Graph(num_nodes=9, num_edges=18,\n",
            "      ndata_schemes={}\n",
            "      edata_schemes={})\n"
          ]
        }
      ]
    },
    {
      "cell_type": "markdown",
      "source": [
        "# **2. Featurization**\n",
        "\n",
        "**Extract mode and edge features from the molecular graph, which are inputs for the Graph Neural Network (GNN)**: \n",
        "\n",
        "* **Node features (atomic properties)**: atom type, atomic number, formal charge, hybridization state, aromaticity, chirality, number of bonded neighbors, degree of unsaturation.\n",
        "\n",
        "\n",
        "* **Edge features (bond types)**: single, double, triple, aromatic etc.; stereochemistry (cis/trans or E/Z); conjugation or delocalization; bond length or distance; bond angle or torsion.\n",
        "\n",
        "The featurizer uses **attention mechanisms to learn the different weights** for different atoms and substructures and the different weights for different bonds and substructures, which helps to capture the most relevant information for predicting the molecular property of interest."
      ],
      "metadata": {
        "id": "DxbS_nkE1gAG"
      }
    },
    {
      "cell_type": "code",
      "source": [
        "# defines a function called atom_mass that takes an RDKit atom instance as input and returns list containing atom's mass\n",
        "# mass of the atom is obtained using the GetMass method of the RDKit atom instance, which returns the mass in atomic mass units (amu)\n",
        "# mass is then multiplied by 0.01 to convert it to kilograms (kg), which is a more commonly used unit of mass in chemistry\n",
        "def atom_mass(atom): \n",
        "    \"\"\"\n",
        "    atom: RDKit atom instance \n",
        "    \"\"\"\n",
        "    return [atom.GetMass() * 0.01] # returns a list containing the mass of the atom, converted to kilograms\n",
        "\n",
        "atom = mol.GetAtomWithIdx(0) # gets the first atom in the mol object (which is assumed to be an RDKit molecule instance) and assigns it to the variable atom\n",
        "print(atom_mass(atom)) # calls atom_mass function with atom variable as input, and prints resulting list containing the mass of the atom in kilograms"
      ],
      "metadata": {
        "colab": {
          "base_uri": "https://localhost:8080/"
        },
        "id": "GYOxASZkwaif",
        "outputId": "c09901ba-1758-4f9a-ea1c-afc309bb0059"
      },
      "execution_count": 13,
      "outputs": [
        {
          "output_type": "stream",
          "name": "stdout",
          "text": [
            "[0.12011]\n"
          ]
        }
      ]
    },
    {
      "cell_type": "markdown",
      "source": [
        "**ConcatFeaturizer**: concatenates multiple functions that extract features from RDKit atom instances. Functions are applied to each atom in a molecule to generate a feature vector for each atom. The resulting feature vector is a concatenation of the outputs of all the functions in the list, and contains information about various properties of the atom. \n",
        "\n",
        "For example, if the input list contains functions to extract the mass, formal charge, and hybridization state of each atom, the resulting feature vector for each atom would contain information about all three of these properties. ConcatFeaturizer class is useful for generating feature vectors that can be used as input to machine learning models for tasks such as molecular property prediction and drug discovery. It allows for easy customization of the feature extraction process by enabling.\n",
        "\n",
        "**atom_formal_charge**: a function used to extract the formal charge of an RDKit atom instance. The formal charge of an atom is the difference between the number of valence electrons on the atom and the number of electrons that it actually has in its bonded state. A positive formal charge means the atom has lost electrons, while a negative formal charge means the atom has gained electrons.\n",
        "\n",
        "The atom_formal_charge function takes an RDKit atom instance as input and returns the formal charge of the atom as an integer. If the atom does not have a formal charge, the function returns 0.\n",
        "\n",
        "The formal charge of an atom can be an important feature for predicting molecular properties such as reactivity and stability. It can also be used to identify and classify different types of atoms in a molecule based on their electronic properties."
      ],
      "metadata": {
        "id": "xTQHtRKO2bT4"
      }
    },
    {
      "cell_type": "code",
      "source": [
        "from dgllife.utils import ConcatFeaturizer, atom_formal_charge\n",
        "\n",
        "atom_featurizer = ConcatFeaturizer([atom_mass, atom_formal_charge])\n",
        "print(atom_featurizer(atom))"
      ],
      "metadata": {
        "colab": {
          "base_uri": "https://localhost:8080/"
        },
        "id": "Y6inef1jwekn",
        "outputId": "5b386681-df18-4160-f2f8-5406869ebd53"
      },
      "execution_count": 14,
      "outputs": [
        {
          "output_type": "stream",
          "name": "stdout",
          "text": [
            "[0.12011, 0]\n"
          ]
        }
      ]
    },
    {
      "cell_type": "markdown",
      "source": [
        "**BaseAtomFeaturizer**: Used to generate feature vectors for individual atoms in a molecule. Feature vectors used as input to machine learning models for tasks such as molecular property prediction and drug discovery. It enables customization of the feature extraction process by allowing the use of different feature extraction functions for different types of information about each atom in the molecule."
      ],
      "metadata": {
        "id": "Df_RWEIL44LK"
      }
    },
    {
      "cell_type": "code",
      "source": [
        "from dgllife.utils import BaseAtomFeaturizer\n",
        "\n",
        "mol_atom_featurizer = BaseAtomFeaturizer({'feat': atom_featurizer})\n",
        "print('feat size:', mol_atom_featurizer.feat_size())\n",
        "print(mol_atom_featurizer(mol))"
      ],
      "metadata": {
        "colab": {
          "base_uri": "https://localhost:8080/"
        },
        "id": "sNiXShtIwggg",
        "outputId": "a59b4826-61f6-440d-f873-5edd9a34910e"
      },
      "execution_count": 15,
      "outputs": [
        {
          "output_type": "stream",
          "name": "stdout",
          "text": [
            "feat size: 2\n",
            "{'feat': tensor([[ 0.1201,  0.0000],\n",
            "        [ 0.1401,  0.0000],\n",
            "        [ 0.1201,  0.0000],\n",
            "        [ 0.1401,  0.0000],\n",
            "        [ 0.1201,  0.0000],\n",
            "        [ 0.1201,  0.0000],\n",
            "        [ 0.1201,  0.0000],\n",
            "        [ 0.1600,  0.0000],\n",
            "        [ 0.1600, -1.0000]])}\n"
          ]
        }
      ]
    },
    {
      "cell_type": "markdown",
      "source": [
        "# **3. Data Preprocessing**\n",
        "**FreeSolv Dataset**: Dataset contains experimental and calculated hydration free energies for small molecules, and is commonly used as a benchmark dataset for molecular property prediction tasks."
      ],
      "metadata": {
        "id": "4gjWUUMn53Sh"
      }
    },
    {
      "cell_type": "code",
      "source": [
        "from dgl.data.utils import download, _get_dgl_url, extract_archive \n",
        "\n",
        "# Download dataset \"FreeSolv\" and extracts its contents into a directory called \"FreeSolv\"\n",
        "url = 'dataset/FreeSolv.zip'\n",
        "data_path = 'FreeSolv.zip'\n",
        "download(_get_dgl_url(url), path=data_path)\n",
        "extract_archive(data_path, './FreeSolv')"
      ],
      "metadata": {
        "colab": {
          "base_uri": "https://localhost:8080/"
        },
        "id": "-ZEaAiQywlJu",
        "outputId": "4140debd-3d7c-41ec-e565-7ee40ef4e11d"
      },
      "execution_count": 16,
      "outputs": [
        {
          "output_type": "stream",
          "name": "stdout",
          "text": [
            "Downloading FreeSolv.zip from https://data.dgl.ai/dataset/FreeSolv.zip...\n",
            "Extracting file to ./FreeSolv\n"
          ]
        }
      ]
    },
    {
      "cell_type": "code",
      "source": [
        "import pandas as pd\n",
        "\n",
        "df = pd.read_csv('FreeSolv/SAMPL.csv')\n",
        "df.head()"
      ],
      "metadata": {
        "colab": {
          "base_uri": "https://localhost:8080/",
          "height": 204
        },
        "id": "GdRBQy5cwqlq",
        "outputId": "0d86ff08-2f1c-49be-bb38-f142d1c57ee5"
      },
      "execution_count": 17,
      "outputs": [
        {
          "output_type": "execute_result",
          "data": {
            "text/plain": [
              "                              iupac                  smiles   expt   calc\n",
              "0  4-methoxy-N,N-dimethyl-benzamide  CN(C)C(=O)c1ccc(cc1)OC -11.01 -9.625\n",
              "1          methanesulfonyl chloride            CS(=O)(=O)Cl  -4.87 -6.219\n",
              "2                 3-methylbut-1-ene                CC(C)C=C   1.83  2.452\n",
              "3                   2-ethylpyrazine              CCc1cnccn1  -5.45 -5.809\n",
              "4                       heptan-1-ol                CCCCCCCO  -4.21 -2.917"
            ],
            "text/html": [
              "\n",
              "  <div id=\"df-1d9ed894-0393-4b8b-bd3a-cfca8d4849f3\">\n",
              "    <div class=\"colab-df-container\">\n",
              "      <div>\n",
              "<style scoped>\n",
              "    .dataframe tbody tr th:only-of-type {\n",
              "        vertical-align: middle;\n",
              "    }\n",
              "\n",
              "    .dataframe tbody tr th {\n",
              "        vertical-align: top;\n",
              "    }\n",
              "\n",
              "    .dataframe thead th {\n",
              "        text-align: right;\n",
              "    }\n",
              "</style>\n",
              "<table border=\"1\" class=\"dataframe\">\n",
              "  <thead>\n",
              "    <tr style=\"text-align: right;\">\n",
              "      <th></th>\n",
              "      <th>iupac</th>\n",
              "      <th>smiles</th>\n",
              "      <th>expt</th>\n",
              "      <th>calc</th>\n",
              "    </tr>\n",
              "  </thead>\n",
              "  <tbody>\n",
              "    <tr>\n",
              "      <th>0</th>\n",
              "      <td>4-methoxy-N,N-dimethyl-benzamide</td>\n",
              "      <td>CN(C)C(=O)c1ccc(cc1)OC</td>\n",
              "      <td>-11.01</td>\n",
              "      <td>-9.625</td>\n",
              "    </tr>\n",
              "    <tr>\n",
              "      <th>1</th>\n",
              "      <td>methanesulfonyl chloride</td>\n",
              "      <td>CS(=O)(=O)Cl</td>\n",
              "      <td>-4.87</td>\n",
              "      <td>-6.219</td>\n",
              "    </tr>\n",
              "    <tr>\n",
              "      <th>2</th>\n",
              "      <td>3-methylbut-1-ene</td>\n",
              "      <td>CC(C)C=C</td>\n",
              "      <td>1.83</td>\n",
              "      <td>2.452</td>\n",
              "    </tr>\n",
              "    <tr>\n",
              "      <th>3</th>\n",
              "      <td>2-ethylpyrazine</td>\n",
              "      <td>CCc1cnccn1</td>\n",
              "      <td>-5.45</td>\n",
              "      <td>-5.809</td>\n",
              "    </tr>\n",
              "    <tr>\n",
              "      <th>4</th>\n",
              "      <td>heptan-1-ol</td>\n",
              "      <td>CCCCCCCO</td>\n",
              "      <td>-4.21</td>\n",
              "      <td>-2.917</td>\n",
              "    </tr>\n",
              "  </tbody>\n",
              "</table>\n",
              "</div>\n",
              "      <button class=\"colab-df-convert\" onclick=\"convertToInteractive('df-1d9ed894-0393-4b8b-bd3a-cfca8d4849f3')\"\n",
              "              title=\"Convert this dataframe to an interactive table.\"\n",
              "              style=\"display:none;\">\n",
              "        \n",
              "  <svg xmlns=\"http://www.w3.org/2000/svg\" height=\"24px\"viewBox=\"0 0 24 24\"\n",
              "       width=\"24px\">\n",
              "    <path d=\"M0 0h24v24H0V0z\" fill=\"none\"/>\n",
              "    <path d=\"M18.56 5.44l.94 2.06.94-2.06 2.06-.94-2.06-.94-.94-2.06-.94 2.06-2.06.94zm-11 1L8.5 8.5l.94-2.06 2.06-.94-2.06-.94L8.5 2.5l-.94 2.06-2.06.94zm10 10l.94 2.06.94-2.06 2.06-.94-2.06-.94-.94-2.06-.94 2.06-2.06.94z\"/><path d=\"M17.41 7.96l-1.37-1.37c-.4-.4-.92-.59-1.43-.59-.52 0-1.04.2-1.43.59L10.3 9.45l-7.72 7.72c-.78.78-.78 2.05 0 2.83L4 21.41c.39.39.9.59 1.41.59.51 0 1.02-.2 1.41-.59l7.78-7.78 2.81-2.81c.8-.78.8-2.07 0-2.86zM5.41 20L4 18.59l7.72-7.72 1.47 1.35L5.41 20z\"/>\n",
              "  </svg>\n",
              "      </button>\n",
              "      \n",
              "  <style>\n",
              "    .colab-df-container {\n",
              "      display:flex;\n",
              "      flex-wrap:wrap;\n",
              "      gap: 12px;\n",
              "    }\n",
              "\n",
              "    .colab-df-convert {\n",
              "      background-color: #E8F0FE;\n",
              "      border: none;\n",
              "      border-radius: 50%;\n",
              "      cursor: pointer;\n",
              "      display: none;\n",
              "      fill: #1967D2;\n",
              "      height: 32px;\n",
              "      padding: 0 0 0 0;\n",
              "      width: 32px;\n",
              "    }\n",
              "\n",
              "    .colab-df-convert:hover {\n",
              "      background-color: #E2EBFA;\n",
              "      box-shadow: 0px 1px 2px rgba(60, 64, 67, 0.3), 0px 1px 3px 1px rgba(60, 64, 67, 0.15);\n",
              "      fill: #174EA6;\n",
              "    }\n",
              "\n",
              "    [theme=dark] .colab-df-convert {\n",
              "      background-color: #3B4455;\n",
              "      fill: #D2E3FC;\n",
              "    }\n",
              "\n",
              "    [theme=dark] .colab-df-convert:hover {\n",
              "      background-color: #434B5C;\n",
              "      box-shadow: 0px 1px 3px 1px rgba(0, 0, 0, 0.15);\n",
              "      filter: drop-shadow(0px 1px 2px rgba(0, 0, 0, 0.3));\n",
              "      fill: #FFFFFF;\n",
              "    }\n",
              "  </style>\n",
              "\n",
              "      <script>\n",
              "        const buttonEl =\n",
              "          document.querySelector('#df-1d9ed894-0393-4b8b-bd3a-cfca8d4849f3 button.colab-df-convert');\n",
              "        buttonEl.style.display =\n",
              "          google.colab.kernel.accessAllowed ? 'block' : 'none';\n",
              "\n",
              "        async function convertToInteractive(key) {\n",
              "          const element = document.querySelector('#df-1d9ed894-0393-4b8b-bd3a-cfca8d4849f3');\n",
              "          const dataTable =\n",
              "            await google.colab.kernel.invokeFunction('convertToInteractive',\n",
              "                                                     [key], {});\n",
              "          if (!dataTable) return;\n",
              "\n",
              "          const docLinkHtml = 'Like what you see? Visit the ' +\n",
              "            '<a target=\"_blank\" href=https://colab.research.google.com/notebooks/data_table.ipynb>data table notebook</a>'\n",
              "            + ' to learn more about interactive tables.';\n",
              "          element.innerHTML = '';\n",
              "          dataTable['output_type'] = 'display_data';\n",
              "          await google.colab.output.renderOutput(dataTable, element);\n",
              "          const docLink = document.createElement('div');\n",
              "          docLink.innerHTML = docLinkHtml;\n",
              "          element.appendChild(docLink);\n",
              "        }\n",
              "      </script>\n",
              "    </div>\n",
              "  </div>\n",
              "  "
            ]
          },
          "metadata": {},
          "execution_count": 17
        }
      ]
    },
    {
      "cell_type": "markdown",
      "source": [
        "**MoleculeCSVDataset**: used to create a dataset of molecules represented as DGL graphs, where each graph corresponds to a molecule in the input CSV file. CSV file contains information about molecules, such as their SMILES strings and experimental properties, and converts each molecule into a DGL graph. The class allows you to specify how to featurize each node and edge in the graph using different featurization methods, such as molecular fingerprints or neural network-based featurization. \n",
        "\n",
        "**AttentiveFPAtomFeaturizer**: a neural network-based featurization method used to encode the features of atoms in a molecular graph. The AttentiveFP method uses a neural network to learn the atom features from its local substructure, along with the features of its neighboring atoms and edges. The method incorporates attention mechanisms to learn different weights for different atoms and substructures, which helps to capture the most relevant information for predicting the molecular property of interest. The AttentiveFPAtomFeaturizer class takes as input a molecular graph represented as a DGLGraph object, and returns a tensor of learned atom features, where each row of the tensor corresponds to the features of one atom in the graph.\n",
        "\n",
        "**AttentiveFPBondFeaturizer**: extracts a set of features for each bond in the graph; a neural network-based featurization method used to encode the features of bonds in a molecular graph; neural network learns the bond features from its local substructure, along with the features of its neighboring atoms and other bonds. The method incorporates attention mechanisms to learn different weights for different bonds and substructures, which helps to capture the most relevant information for predicting the molecular property of interest. Takes as input a molecular graph represented as a DGLGraph object, and returns a tensor of learned bond features, where each row of the tensor corresponds to the features of one bond in the graph."
      ],
      "metadata": {
        "id": "yo1WCuCI6k7n"
      }
    },
    {
      "cell_type": "code",
      "source": [
        "from dgllife.data import MoleculeCSVDataset\n",
        "from dgllife.utils import AttentiveFPAtomFeaturizer, AttentiveFPBondFeaturizer\n",
        "\n",
        "# define the featurizers used to extract features from the nodes and edges of molecular graphs\n",
        "\n",
        "node_featurizer = AttentiveFPAtomFeaturizer(atom_data_field='feat') # extracts features for each atom, argument atom_data_field='feat' specifies that the features for each atom are stored in the feat field of the node data dictionary\n",
        "edge_featurizer = AttentiveFPBondFeaturizer(bond_data_field='feat') # extracts features for each bond, bond_data_field='feat' specifies that the features for each bond are stored in the feat field of the edge data dictionary\n",
        "\n",
        "# dataset:\n",
        "# creates a MoleculeCSVDataset object, which reads in molecular data from a CSV file (df) and prepares it for use in model\n",
        "# node_featurizer and edge_featurizer are used to extract features from each atom and bond in the molecules\n",
        "# argument smiles_column='smiles' specifies that the SMILES strings for each molecule are stored in the smiles column of the CSV file\n",
        "# task_names=['expt'] specifies the name of the property to predict for each molecule, which is expt\n",
        "# cache_file_path='dglgraph.bin' specifies the path where the preprocessed data will be stored to speed up future data loading.\n",
        "\n",
        "dataset = MoleculeCSVDataset(df, \n",
        "                             node_featurizer=node_featurizer,\n",
        "                             edge_featurizer=edge_featurizer,\n",
        "                             smiles_column='smiles',\n",
        "                             task_names=['expt'],\n",
        "                             cache_file_path='dglgraph.bin')\n",
        "print('dataset size:', len(dataset)) # print out the size of the dataset and the first example in the dataset, respectively\n",
        "print(dataset[0])"
      ],
      "metadata": {
        "colab": {
          "base_uri": "https://localhost:8080/"
        },
        "id": "J32Nj1fywunI",
        "outputId": "7c5ae8d3-d342-4d6b-bc45-612a68cab565"
      },
      "execution_count": 18,
      "outputs": [
        {
          "output_type": "stream",
          "name": "stdout",
          "text": [
            "Processing dgl graphs from scratch...\n",
            "dataset size: 642\n",
            "('CN(C)C(=O)c1ccc(cc1)OC', Graph(num_nodes=13, num_edges=26,\n",
            "      ndata_schemes={'feat': Scheme(shape=(39,), dtype=torch.float32)}\n",
            "      edata_schemes={'feat': Scheme(shape=(10,), dtype=torch.float32)}), tensor([-11.0100]), tensor([1.]))\n"
          ]
        }
      ]
    },
    {
      "cell_type": "markdown",
      "source": [
        "# **4. Model Training**\n",
        "\n",
        "**ScaffoldSplitter**: method for splitting a molecular dataset into training, validation, and test sets while preserving the structural diversity of the molecules in each set. The basic idea behind this method is to group structurally similar molecules into the same set so that the model can be trained, validated, and tested on a diverse set of molecules. This method first identifies the molecular scaffold of each molecule and then splits the dataset based on the scaffolds, such that each scaffold appears in only one of the training, validation, or test sets. This ensures that the model is not overfitting to a particular set of molecules with similar scaffolds, but rather generalizes well to a diverse range of molecules. ScaffoldSplitter is commonly used in molecular machine learning for tasks such as molecular property prediction and molecular generation."
      ],
      "metadata": {
        "id": "dn4XSZyaAsx-"
      }
    },
    {
      "cell_type": "code",
      "source": [
        "# split dataset into training, validation, and test sets based on scaffold structures of molecules\n",
        "from dgllife.utils import ScaffoldSplitter\n",
        "\n",
        "train_set, val_set, test_set = ScaffoldSplitter.train_val_test_split( # training set \n",
        "    dataset, frac_train=0.8, frac_val=0.1, # training set will contain 80% of the data, validation set will contain 10%\n",
        "    frac_test=0.1, scaffold_func='smiles') # test set will contain 10% of the data"
      ],
      "metadata": {
        "colab": {
          "base_uri": "https://localhost:8080/"
        },
        "id": "vnPW8kOWw3Aw",
        "outputId": "3051269c-e74d-4ec7-c994-bfb86824344e"
      },
      "execution_count": 19,
      "outputs": [
        {
          "output_type": "stream",
          "name": "stdout",
          "text": [
            "Start initializing RDKit molecule instances...\n",
            "Start computing Bemis-Murcko scaffolds.\n"
          ]
        }
      ]
    },
    {
      "cell_type": "code",
      "source": [
        "# defines a function collate_molgraphs that takes in molecular graph list and labels and returns a batch of these graphs with labels\n",
        "# zip() groups the data samples together by their corresponding smiles, graphs, labels and masks\n",
        "# map() applies the list() function to each group of data, effectively unpacking the data samples from their original structure\n",
        "\n",
        "def collate_molgraphs(data):\n",
        "    smiles, graphs, labels, masks = map(list, zip(*data))\n",
        "\n",
        "    bg = dgl.batch(graphs) # batch the graphs together into a single big graph (bg)\n",
        "    labels = torch.stack(labels, dim=0) # stacks the labels tensors along the 0th dimension to form a single tensor\n",
        "    masks = torch.stack(masks, dim=0) # stacks the masks tensors along the 0th dimension to form a single tensor\n",
        "\n",
        "    return smiles, bg, labels, masks # returns the smiles, bg, labels, and masks tensors packed into a tuple\n",
        "\n",
        "# DataLoader will create batches of 128 samples each during training\n",
        "# batch is a subset of the entire dataset used for training the machine learning model; is a way of dividing the entire dataset into smaller parts to fit into the memory during training\n",
        "# by using batches, the model can update the parameters after each batch instead of after each individual data point, which makes the training process more efficient\n",
        "# large batch size means faster training, but requires more memory, can sometimes result in less accurate model updates due to noisy gradients\n",
        "# batch size requires some experimentation to find the right balance between training speed and accuracy\n",
        "\n",
        "batch_size = 128 # during training, the model will receive and process 128 samples in parallel\n",
        "train_loader = DataLoader(dataset=train_set, batch_size=batch_size, \n",
        "                          shuffle=True, collate_fn=collate_molgraphs)\n",
        "val_loader = DataLoader(dataset=val_set, batch_size=batch_size,\n",
        "                        collate_fn=collate_molgraphs)\n",
        "test_loader = DataLoader(dataset=test_set, batch_size=batch_size,\n",
        "                         collate_fn=collate_molgraphs)"
      ],
      "metadata": {
        "id": "dH90siVqw5Bh"
      },
      "execution_count": 20,
      "outputs": []
    },
    {
      "cell_type": "markdown",
      "source": [
        "**AttentiveFPPredictor**: neural network model used for predicting molecular properties. It is part of the DGL-LifeSci package, which provides various deep learning tools for drug discovery and molecular generation tasks. The AttentiveFPPredictor model is based on the AttentiveFP approach, which combines message passing neural networks (MPNNs) with attention mechanisms to generate molecular representations that are sensitive to the relevant substructures for predicting molecular properties.\n",
        "\n",
        "**Message Passing Neural Networks (MPNNs)** class of neural networks that are designed to operate on graph-structured data. MPNNs perform computation by passing messages between the nodes of the graph. At each layer of the MPNN, the node features are updated based on the messages that have been received from neighboring nodes in the previous layer. MPNNs are composed of two main components: a message function and a readout function. \n",
        "\n",
        "The message function is responsible for computing the messages that are passed between nodes, while the readout function aggregates the node features to produce a graph-level representation. MPNNs have been applied to a wide range of tasks, including molecule property prediction, protein-ligand binding affinity prediction, and materials design. They are a powerful tool for modeling complex systems that can be represented as graphs.\n",
        "\n",
        "**AttentiveFP**: extension of the Message Passing Neural Networks (MPNNs) approach for molecular property prediction. The AttentiveFP approach combines message passing with an attention mechanism to allow the model to focus on specific atoms and bonds that are important for predicting the target property.\n",
        "\n",
        "In AttentiveFP, each atom and bond is assigned a learnable attention weight. During the message passing process, these attention weights are used to compute a weighted sum of the messages received by each atom and bond. This weighted sum is then used to update the atom or bond state. The attention weights are learned through a separate neural network called the AttentiveFP Predictor, which takes as input the features of the atom or bond and outputs a scalar attention weight. By training the AttentiveFP Predictor together with the main model for the property prediction task, the attention weights are learned to focus on the parts of the molecule that are most relevant for the task.\n",
        "\n",
        "**Adaptive Moment Estimation (Adam)**: Adam is an optimization algorithm used for stochastic gradient descent. It is an extension of the traditional gradient descent algorithm that is designed to converge faster and more reliably to the optimal weights for a neural network. *Adam calculates the learning rate for each weight in a neural network*, based on the history of gradients for that weight. The learning rate is adjusted dynamically as the training progresses, leading to faster convergence and better performance. Adam is a popular optimizer in deep learning, particularly for large-scale models with many parameters.\n",
        "\n",
        "**SmoothL1Loss**: type of loss function commonly used in deep learning for regression tasks. It is similar to the Mean Squared Error (MSE) loss function, but it is less sensitive to outliers. The SmoothL1Loss function calculates the difference between the predicted and target values, and applies a smoothing function if the absolute difference is below a certain threshold. The smoothing function is typically a quadratic function for small errors and a linear function for larger errors. The resulting loss value is the mean of the smoothed errors. The SmoothL1Loss function is also known as the Huber loss function."
      ],
      "metadata": {
        "id": "BVuUnZOmQeBK"
      }
    },
    {
      "cell_type": "code",
      "source": [
        "import torch.nn as nn\n",
        "from dgllife.model import AttentiveFPPredictor\n",
        "from torch.optim import Adam\n",
        "\n",
        "# node_feat_size and edge_feat_size parameters specify the size of the node and edge features used by the model, respectively\n",
        "# sizes are obtained from the node_featurizer and edge_featurizer objects created earlier\n",
        "# n_tasks parameter specifies the number of prediction tasks for the model, which is 1\n",
        "# AttentiveFPBondFeaturizer extracts the bond type (encoded as a one-hot vector) and the distance between the atoms (scaled by a factor of 10)\n",
        "# therefore, the edge feature size is 7 (one-hot encoding of bond type) plus 1 (scaled bond distance), which equals 8\n",
        "\n",
        "model = AttentiveFPPredictor(\n",
        "    node_feat_size=node_featurizer.feat_size(),\n",
        "    edge_feat_size=edge_featurizer.feat_size(),\n",
        "    n_tasks=dataset.n_tasks\n",
        ")\n",
        "loss_criterion = nn.SmoothL1Loss(reduction='none') # reduction='none' argument means that the loss is not averaged or summed over the batch\n",
        "optimizer = Adam(model.parameters(), lr=3e-4) # update the parameters of the model during training; the lr=3e-4 argument specifies learning rate used by optimizer"
      ],
      "metadata": {
        "id": "EgzrnasvxDZc"
      },
      "execution_count": 21,
      "outputs": []
    },
    {
      "cell_type": "markdown",
      "source": [
        "**Meter**: a class from the dgllife.utils module that provides an interface for tracking the performance metrics of a machine learning model. The Meter class provides several methods for updating and computing various evaluation metrics, such as mean absolute error, root mean squared error, and R2 score. The import Meter statement in the code allows the code to use the Meter class to track and report the performance metrics of the GNN model during training and evaluation.\n",
        "\n",
        "**epoch**: an epoch is a complete pass through a dataset during training of a machine learning model. In other words, an epoch is the number of times the model has seen the entire training dataset. During each epoch, the model iteratively updates its weights based on the input data and the corresponding labels. Typically, the number of epochs is decided based on the size and complexity of the dataset and the training algorithm being used. One epoch can consist of multiple iterations or batches, where each batch is a small subset of the training dataset.\n",
        "\n",
        "**R2 score**: also known as the coefficient of determination, is a statistical measure that represents the proportion of variance in the target variable (i.e., the dependent variable) that can be explained by the input variables (i.e., the independent variables) in a regression model.\n",
        "\n",
        "In the context of machine learning, R2 score is often used as an evaluation metric to measure how well a model can predict the target variable. It ranges from 0 to 1, where a score of 1 indicates that the model can perfectly predict the target variable, and a score of 0 indicates that the model's predictions are no better than the mean of the target variable. Negative scores can also occur if the model's predictions are worse than the mean of the target variable.\n",
        "\n",
        "In the code, the r2 metric is computed using the Meter class to evaluate the performance of the GNN model during training and evaluation. The r2 metric measures how well the GNN model can predict the target variable (i.e., labels) compared to the ground truth, and it is reported as a floating-point number between 0 and 1.\n",
        "\n",
        "**In this code, the target variable is the solvation free energy (expt) and the dependent variable is the molecular structure of the compounds represented by SMILES strings. The goal is to predict the solvation free energy of new compounds given their molecular structures**."
      ],
      "metadata": {
        "id": "qQUrlzIXmKb5"
      }
    },
    {
      "cell_type": "code",
      "source": [
        "import dgl\n",
        "import numpy as np\n",
        "from dgllife.utils import Meter\n",
        "\n",
        "# defines a function named run_a_train_epoch that takes in four parameters: model, data_loader, loss_criterion, and optimizer\n",
        "\n",
        "def run_a_train_epoch(model, data_loader, loss_criterion, optimizer): \n",
        "    model.train() # sets the model to training mode\n",
        "    train_meter = Meter() # creates a new Meter object to track the training metrics\n",
        "    for _, batch_data in enumerate(data_loader): # iterates over each batch of data in the data loader\n",
        "        smiles, bg, labels, masks = batch_data # unpacks the batch data into four variables: list smile stringes, batch molecular graphs, labels and masks\n",
        "        if len(smiles) == 1: # checks if the batch size is 1. If so, the batch is skipped to avoid potential issues with batch normalization\n",
        "            # Avoid potential issues with batch normalization\n",
        "            continue\n",
        "        \n",
        "        pred = model(bg, bg.ndata['feat'], bg.edata['feat']) # computes model's predictions for batch using the input graph bg and the node and edge features\n",
        "        loss = (loss_criterion(pred, labels) * (masks != 0).float()).mean() # omputes the loss for the batch using the specified loss criterion and masks out any padded elements in the labels tensor\n",
        "        optimizer.zero_grad() # clears the gradients of all optimized tensors\n",
        "        loss.backward() # computes the gradients of the loss with respect to the model parameters\n",
        "        optimizer.step() # updates the model parameters using the computed gradients\n",
        "        train_meter.update(pred, labels, masks) # object with the current batch's performance metrics\n",
        "    return np.mean(train_meter.compute_metric('r2')) # computes the mean R2 score for the entire training set using the train_meter object and returns it\n",
        "\n",
        "# defines a function named run_an_eval_epoch that takes two arguments, model and data_loader\n",
        "# switches the model to evaluation mode, where layers like dropout or batch normalization are turned off\n",
        "# this ensures that the model is not affected by regularization during evaluation\n",
        "\n",
        "def run_an_eval_epoch(model, data_loader):\n",
        "    model.eval() \n",
        "    eval_meter = Meter() # initializes an instance of a Meter class, which is used to keep track of evaluation metrics like R-squared or mean squared error\n",
        "    for _, batch_data in enumerate(data_loader): # loops through each batch of data in data_loader and unpacks the batch into four variables smiles, bg, labels, and masks\n",
        "        smiles, bg, labels, masks = batch_data \n",
        "        pred = model(bg, bg.ndata['feat'], bg.edata['feat']) # computes predictions for the batch by calling the model function with three arguments:\n",
        "        # bg is the DGLGraph object representing the molecular graphs in the batch\n",
        "        # bg.ndata['feat'] is a tensor of node features for each graph node\n",
        "        # bg.edata['feat'] is a tensor of edge features for each graph edge\n",
        "        # pred is a tensor of predicted values for each molecule in the batch\n",
        "        eval_meter.update(pred, labels, masks) # updates the eval_meter object with the predicted values, target values, and masks for the current batch\n",
        "    return np.mean(eval_meter.compute_metric('r2')) # computes the R-squared metric for the entire evaluation set using the compute_metric method of the eval_meter object\n",
        "\n",
        "# this block of code trains the model for 100 epochs and prints the training and validation R-squared scores after each epoch\n",
        "# train_r2 is computed by calling the run_a_train_epoch function, which trains the model on the training set for one epoch\n",
        "# val_r2 is computed by calling the run_an_eval_epoch function, which evaluates the model on the validation set\n",
        "# print statement outputs the current epoch number, training R-squared score, and validation R-squared score\n",
        "\n",
        "for epoch in range(100):\n",
        "    train_r2 = run_a_train_epoch(model, train_loader, loss_criterion, optimizer)\n",
        "    val_r2 = run_an_eval_epoch(model, val_loader)\n",
        "    print('epoch {:d} | train r2 {:.4f} | val r2 {:.4f}'.format(epoch, train_r2, val_r2))\n",
        "test_r2 = run_an_eval_epoch(model, test_loader) # evaluates the trained model on the test set and computes the R-squared score using the run_an_eval_epoch function\n",
        "print('test r2 {:.4f}'.format(test_r2)) # prints the R-squared score for the test set"
      ],
      "metadata": {
        "colab": {
          "base_uri": "https://localhost:8080/"
        },
        "id": "A1sA1Zjvxexy",
        "outputId": "415abd26-ad8d-469a-9edf-e07361468204"
      },
      "execution_count": 22,
      "outputs": [
        {
          "output_type": "stream",
          "name": "stdout",
          "text": [
            "epoch 0 | train r2 0.0489 | val r2 0.0459\n",
            "epoch 1 | train r2 0.0883 | val r2 0.0467\n",
            "epoch 2 | train r2 0.1147 | val r2 0.0497\n",
            "epoch 3 | train r2 0.1256 | val r2 0.0561\n",
            "epoch 4 | train r2 0.1550 | val r2 0.0633\n",
            "epoch 5 | train r2 0.1505 | val r2 0.0694\n",
            "epoch 6 | train r2 0.1746 | val r2 0.0774\n",
            "epoch 7 | train r2 0.1861 | val r2 0.0870\n",
            "epoch 8 | train r2 0.1981 | val r2 0.0972\n",
            "epoch 9 | train r2 0.2091 | val r2 0.1069\n",
            "epoch 10 | train r2 0.2164 | val r2 0.1165\n",
            "epoch 11 | train r2 0.2262 | val r2 0.1263\n",
            "epoch 12 | train r2 0.2365 | val r2 0.1353\n",
            "epoch 13 | train r2 0.2482 | val r2 0.1489\n",
            "epoch 14 | train r2 0.2609 | val r2 0.1645\n",
            "epoch 15 | train r2 0.2725 | val r2 0.1808\n",
            "epoch 16 | train r2 0.2913 | val r2 0.2008\n",
            "epoch 17 | train r2 0.3101 | val r2 0.2252\n",
            "epoch 18 | train r2 0.3370 | val r2 0.2558\n",
            "epoch 19 | train r2 0.3715 | val r2 0.2942\n",
            "epoch 20 | train r2 0.4083 | val r2 0.3420\n",
            "epoch 21 | train r2 0.4575 | val r2 0.4089\n",
            "epoch 22 | train r2 0.5049 | val r2 0.4981\n",
            "epoch 23 | train r2 0.5541 | val r2 0.5948\n",
            "epoch 24 | train r2 0.5857 | val r2 0.6608\n",
            "epoch 25 | train r2 0.6152 | val r2 0.6840\n",
            "epoch 26 | train r2 0.6595 | val r2 0.7017\n",
            "epoch 27 | train r2 0.6901 | val r2 0.7183\n",
            "epoch 28 | train r2 0.7131 | val r2 0.7183\n",
            "epoch 29 | train r2 0.7314 | val r2 0.7030\n",
            "epoch 30 | train r2 0.7499 | val r2 0.7053\n",
            "epoch 31 | train r2 0.7649 | val r2 0.7330\n",
            "epoch 32 | train r2 0.7776 | val r2 0.7648\n",
            "epoch 33 | train r2 0.7869 | val r2 0.7651\n",
            "epoch 34 | train r2 0.8061 | val r2 0.7399\n",
            "epoch 35 | train r2 0.8186 | val r2 0.7976\n",
            "epoch 36 | train r2 0.8326 | val r2 0.7974\n",
            "epoch 37 | train r2 0.8445 | val r2 0.8182\n",
            "epoch 38 | train r2 0.8625 | val r2 0.8424\n",
            "epoch 39 | train r2 0.8730 | val r2 0.8504\n",
            "epoch 40 | train r2 0.8759 | val r2 0.8770\n",
            "epoch 41 | train r2 0.8909 | val r2 0.8858\n",
            "epoch 42 | train r2 0.8868 | val r2 0.8801\n",
            "epoch 43 | train r2 0.9034 | val r2 0.8837\n",
            "epoch 44 | train r2 0.9106 | val r2 0.8852\n",
            "epoch 45 | train r2 0.9117 | val r2 0.8964\n",
            "epoch 46 | train r2 0.9189 | val r2 0.8915\n",
            "epoch 47 | train r2 0.9200 | val r2 0.8904\n",
            "epoch 48 | train r2 0.9242 | val r2 0.8977\n",
            "epoch 49 | train r2 0.9236 | val r2 0.8958\n",
            "epoch 50 | train r2 0.9283 | val r2 0.8974\n",
            "epoch 51 | train r2 0.9308 | val r2 0.9052\n",
            "epoch 52 | train r2 0.9337 | val r2 0.9046\n",
            "epoch 53 | train r2 0.9357 | val r2 0.9091\n",
            "epoch 54 | train r2 0.9340 | val r2 0.9121\n",
            "epoch 55 | train r2 0.9381 | val r2 0.9119\n",
            "epoch 56 | train r2 0.9419 | val r2 0.9147\n",
            "epoch 57 | train r2 0.9421 | val r2 0.9134\n",
            "epoch 58 | train r2 0.9440 | val r2 0.9173\n",
            "epoch 59 | train r2 0.9428 | val r2 0.9186\n",
            "epoch 60 | train r2 0.9449 | val r2 0.9204\n",
            "epoch 61 | train r2 0.9457 | val r2 0.9193\n",
            "epoch 62 | train r2 0.9414 | val r2 0.9202\n",
            "epoch 63 | train r2 0.9458 | val r2 0.9191\n",
            "epoch 64 | train r2 0.9465 | val r2 0.9185\n",
            "epoch 65 | train r2 0.9473 | val r2 0.9290\n",
            "epoch 66 | train r2 0.9474 | val r2 0.9166\n",
            "epoch 67 | train r2 0.9492 | val r2 0.9288\n",
            "epoch 68 | train r2 0.9457 | val r2 0.9251\n",
            "epoch 69 | train r2 0.9455 | val r2 0.9267\n",
            "epoch 70 | train r2 0.9462 | val r2 0.9259\n",
            "epoch 71 | train r2 0.9492 | val r2 0.9175\n",
            "epoch 72 | train r2 0.9494 | val r2 0.9118\n",
            "epoch 73 | train r2 0.9403 | val r2 0.9072\n",
            "epoch 74 | train r2 0.9403 | val r2 0.9164\n",
            "epoch 75 | train r2 0.9431 | val r2 0.9332\n",
            "epoch 76 | train r2 0.9434 | val r2 0.9320\n",
            "epoch 77 | train r2 0.9479 | val r2 0.9167\n",
            "epoch 78 | train r2 0.9473 | val r2 0.9264\n",
            "epoch 79 | train r2 0.9495 | val r2 0.9346\n",
            "epoch 80 | train r2 0.9460 | val r2 0.9261\n",
            "epoch 81 | train r2 0.9533 | val r2 0.9234\n",
            "epoch 82 | train r2 0.9523 | val r2 0.9317\n",
            "epoch 83 | train r2 0.9507 | val r2 0.9298\n",
            "epoch 84 | train r2 0.9503 | val r2 0.9227\n",
            "epoch 85 | train r2 0.9554 | val r2 0.9257\n",
            "epoch 86 | train r2 0.9530 | val r2 0.9281\n",
            "epoch 87 | train r2 0.9546 | val r2 0.9247\n",
            "epoch 88 | train r2 0.9565 | val r2 0.9212\n",
            "epoch 89 | train r2 0.9576 | val r2 0.9257\n",
            "epoch 90 | train r2 0.9555 | val r2 0.9216\n",
            "epoch 91 | train r2 0.9569 | val r2 0.9202\n",
            "epoch 92 | train r2 0.9572 | val r2 0.9209\n",
            "epoch 93 | train r2 0.9591 | val r2 0.9247\n",
            "epoch 94 | train r2 0.9590 | val r2 0.9181\n",
            "epoch 95 | train r2 0.9578 | val r2 0.9182\n",
            "epoch 96 | train r2 0.9587 | val r2 0.9216\n",
            "epoch 97 | train r2 0.9591 | val r2 0.9188\n",
            "epoch 98 | train r2 0.9599 | val r2 0.9201\n",
            "epoch 99 | train r2 0.9602 | val r2 0.9224\n",
            "test r2 0.7644\n"
          ]
        }
      ]
    },
    {
      "cell_type": "code",
      "source": [
        "! pip install matplotlib"
      ],
      "metadata": {
        "colab": {
          "base_uri": "https://localhost:8080/"
        },
        "id": "o4yPv2d8x-s9",
        "outputId": "37eba48c-d7f2-4266-faa5-17b65ed8e32f"
      },
      "execution_count": 23,
      "outputs": [
        {
          "output_type": "stream",
          "name": "stdout",
          "text": [
            "Looking in indexes: https://pypi.org/simple, https://us-python.pkg.dev/colab-wheels/public/simple/\n",
            "Requirement already satisfied: matplotlib in /usr/local/lib/python3.9/dist-packages (3.5.3)\n",
            "Requirement already satisfied: python-dateutil>=2.7 in /usr/local/lib/python3.9/dist-packages (from matplotlib) (2.8.2)\n",
            "Requirement already satisfied: fonttools>=4.22.0 in /usr/local/lib/python3.9/dist-packages (from matplotlib) (4.39.0)\n",
            "Requirement already satisfied: packaging>=20.0 in /usr/local/lib/python3.9/dist-packages (from matplotlib) (23.0)\n",
            "Requirement already satisfied: pillow>=6.2.0 in /usr/local/lib/python3.9/dist-packages (from matplotlib) (8.4.0)\n",
            "Requirement already satisfied: numpy>=1.17 in /usr/local/lib/python3.9/dist-packages (from matplotlib) (1.22.4)\n",
            "Requirement already satisfied: cycler>=0.10 in /usr/local/lib/python3.9/dist-packages (from matplotlib) (0.11.0)\n",
            "Requirement already satisfied: kiwisolver>=1.0.1 in /usr/local/lib/python3.9/dist-packages (from matplotlib) (1.4.4)\n",
            "Requirement already satisfied: pyparsing>=2.2.1 in /usr/local/lib/python3.9/dist-packages (from matplotlib) (3.0.9)\n",
            "Requirement already satisfied: six>=1.5 in /usr/local/lib/python3.9/dist-packages (from python-dateutil>=2.7->matplotlib) (1.15.0)\n"
          ]
        }
      ]
    },
    {
      "cell_type": "markdown",
      "source": [
        "Colours indicate the attention weights assigned to each atom in the molecular graph by the [Graph Attention Network](https://arxiv.org/abs/1710.10903) (GAT) model. The attention weights provide information about how important each atom is for predicting the solvation free energy (expt column) of small molecules. \n",
        "\n",
        "The range of colors indicates the values of the predicted free energy in kcal/mol, with higher values being represented by darker colors. The code normalizes the attention weights and maps them to an orange color scale using the ScalarMappable function from the matplotlib library. The color intensity of each atom in the 2D visualization of the molecule is then proportional to its attention weight.\n",
        "\n",
        "Orange is the color used to represent the highest value in the range. The color range is determined by the cmap variable, which is defined using cm.get_cmap('Oranges'). This colormap goes from light yellow to dark orange, with increasing values. The atom with the highest value in atom_weights is colored in the darkest shade of orange, while the atom with the lowest value is colored in the lightest shade of yellow."
      ],
      "metadata": {
        "id": "ZIud0AE5-KaA"
      }
    },
    {
      "cell_type": "code",
      "source": [
        "# visualise the attention weights of the graph neural network on the molecule\n",
        "import matplotlib\n",
        "import matplotlib.cm as cm\n",
        "\n",
        "from IPython.display import SVG, display # SVG and display module are used to display the molecule visualization in Jupyter notebook\n",
        "from rdkit.Chem import rdDepictor # module used to generate 2D coordinates for the molecule\n",
        "from rdkit.Chem.Draw import rdMolDraw2D # module used to draw the molecule\n",
        "\n",
        "smiles, g, _, _ = dataset[0] # retrieves the SMILES representation, graph object g, and other variables from the first molecule in the dataset\n",
        "_, atom_weights = model(g, g.ndata['feat'], g.edata['feat'], get_node_weight=True) # computes the attention weights for each atom in the molecule using the model object i.e. GNN\n",
        "# get_node_weight=True argument specifies that the weights should be returned\n",
        "# atom_weights is a list of length 2\n",
        "# we use the second suite of atom weights for visualization in this demo\n",
        "atom_weights = atom_weights[-1] # extracts the last set of weights from the atom_weights list\n",
        "\n",
        "# min-max normalization to make it easier to distinguish attention values\n",
        "min_value = torch.min(atom_weights) # computes the minimum value of the attention weights\n",
        "max_value = torch.max(atom_weights) # computes the maximum value of the attention weights\n",
        "atom_weights = (atom_weights - min_value) / (max_value - min_value) # normalizes the attention weights to make them easier to distinguish by scaling them between 0 and 1\n",
        "\n",
        "# conver the weights to atom colors\n",
        "norm = matplotlib.colors.Normalize(vmin=0, vmax=1.28)\n",
        "cmap = cm.get_cmap('Oranges')\n",
        "plt_colors = cm.ScalarMappable(norm=norm, cmap=cmap)\n",
        "# creates a dictionary of atom indices to colors, where the color for each atom is determined by the corresponding attention weight and the plt_colors object\n",
        "atom_colors = {i: plt_colors.to_rgba(atom_weights[i].data.item()) \n",
        "               for i in range(g.num_nodes())}\n",
        "\n",
        "mol = Chem.MolFromSmiles(smiles) # constructs a molecule object from the SMILES representation\n",
        "rdDepictor.Compute2DCoords(mol) # computes 2D coordinates for the molecule using the rdDepictor module\n",
        "drawer = rdMolDraw2D.MolDraw2DSVG(280,280) # creates a MolDraw2DSVG object from the rdMolDraw2D module with a canvas size of 280x280 pixels\n",
        "drawer.SetFontSize(1)\n",
        "op = drawer.drawOptions()\n",
        "    \n",
        "mol = rdMolDraw2D.PrepareMolForDrawing(mol) # prepares the molecule mol for drawing by setting up coordinates for each atom and bond in the molecule using the rdDepictor module\n",
        "\n",
        "# draws the molecule using the rdMolDraw2D module, with the highlightAtoms argument set to a list of all the atoms in the molecule (specified using the range function and the num_nodes attribute of the g object)\n",
        "# the highlightBonds argument set to an empty list (indicating that no bonds should be highlighted)\n",
        "# the highlightAtomColors argument set to the dictionary atom_colors, which contains the colors to use for highlighting each atom based on the attention weights\n",
        "\n",
        "drawer.DrawMolecule(mol, highlightAtoms=range(g.num_nodes()),highlightBonds=[],\n",
        "                    highlightAtomColors=atom_colors)\n",
        "drawer.FinishDrawing() # finalizes the drawing of the molecule, indicating that no more elements will be added to the drawing\n",
        "svg = drawer.GetDrawingText() # retrieves the SVG representation of the molecule drawing as a string\n",
        "svg = svg.replace('svg:','') # replaces the namespace prefix svg: in the SVG string with an empty string, to make the SVG compatible with displaying in a Jupyter notebook\n",
        "display(SVG(svg)) # displays the SVG image in the notebook using the IPython.display module"
      ],
      "metadata": {
        "colab": {
          "base_uri": "https://localhost:8080/",
          "height": 301
        },
        "id": "yhIkGfOmyDSt",
        "outputId": "cc6fbe10-2f2b-42e7-a272-099c7790c6c0"
      },
      "execution_count": 24,
      "outputs": [
        {
          "output_type": "display_data",
          "data": {
            "text/plain": [
              "<IPython.core.display.SVG object>"
            ],
            "image/svg+xml": "<svg xmlns=\"http://www.w3.org/2000/svg\" xmlns:rdkit=\"http://www.rdkit.org/xml\" xmlns:xlink=\"http://www.w3.org/1999/xlink\" version=\"1.1\" baseProfile=\"full\" xml:space=\"preserve\" width=\"280px\" height=\"280px\" viewBox=\"0 0 280 280\">\n<!-- END OF HEADER -->\n<rect style=\"opacity:1.0;fill:#FFFFFF;stroke:none\" width=\"280.0\" height=\"280.0\" x=\"0.0\" y=\"0.0\"> </rect>\n<ellipse cx=\"20.4\" cy=\"134.1\" rx=\"7.7\" ry=\"7.7\" class=\"atom-0\" style=\"fill:#FDD6AE;fill-rule:evenodd;stroke:#FDD6AE;stroke-width:1.0px;stroke-linecap:butt;stroke-linejoin:miter;stroke-opacity:1\"/>\n<ellipse cx=\"57.9\" cy=\"125.7\" rx=\"7.7\" ry=\"7.7\" class=\"atom-1\" style=\"fill:#CB4301;fill-rule:evenodd;stroke:#CB4301;stroke-width:1.0px;stroke-linecap:butt;stroke-linejoin:miter;stroke-opacity:1\"/>\n<ellipse cx=\"69.3\" cy=\"89.1\" rx=\"7.7\" ry=\"7.7\" class=\"atom-2\" style=\"fill:#FDC18B;fill-rule:evenodd;stroke:#FDC18B;stroke-width:1.0px;stroke-linecap:butt;stroke-linejoin:miter;stroke-opacity:1\"/>\n<ellipse cx=\"83.8\" cy=\"154.0\" rx=\"7.7\" ry=\"7.7\" class=\"atom-3\" style=\"fill:#FB8736;fill-rule:evenodd;stroke:#FB8736;stroke-width:1.0px;stroke-linecap:butt;stroke-linejoin:miter;stroke-opacity:1\"/>\n<ellipse cx=\"72.3\" cy=\"190.7\" rx=\"7.7\" ry=\"7.9\" class=\"atom-4\" style=\"fill:#FEF2E6;fill-rule:evenodd;stroke:#FEF2E6;stroke-width:1.0px;stroke-linecap:butt;stroke-linejoin:miter;stroke-opacity:1\"/>\n<ellipse cx=\"121.3\" cy=\"145.6\" rx=\"7.7\" ry=\"7.7\" class=\"atom-5\" style=\"fill:#E05206;fill-rule:evenodd;stroke:#E05206;stroke-width:1.0px;stroke-linecap:butt;stroke-linejoin:miter;stroke-opacity:1\"/>\n<ellipse cx=\"132.8\" cy=\"109.0\" rx=\"7.7\" ry=\"7.7\" class=\"atom-6\" style=\"fill:#F77B28;fill-rule:evenodd;stroke:#F77B28;stroke-width:1.0px;stroke-linecap:butt;stroke-linejoin:miter;stroke-opacity:1\"/>\n<ellipse cx=\"170.2\" cy=\"100.6\" rx=\"7.7\" ry=\"7.7\" class=\"atom-7\" style=\"fill:#FFF5EB;fill-rule:evenodd;stroke:#FFF5EB;stroke-width:1.0px;stroke-linecap:butt;stroke-linejoin:miter;stroke-opacity:1\"/>\n<ellipse cx=\"196.2\" cy=\"128.9\" rx=\"7.7\" ry=\"7.7\" class=\"atom-8\" style=\"fill:#F77B28;fill-rule:evenodd;stroke:#F77B28;stroke-width:1.0px;stroke-linecap:butt;stroke-linejoin:miter;stroke-opacity:1\"/>\n<ellipse cx=\"184.7\" cy=\"165.5\" rx=\"7.7\" ry=\"7.7\" class=\"atom-9\" style=\"fill:#FDAA66;fill-rule:evenodd;stroke:#FDAA66;stroke-width:1.0px;stroke-linecap:butt;stroke-linejoin:miter;stroke-opacity:1\"/>\n<ellipse cx=\"147.2\" cy=\"173.9\" rx=\"7.7\" ry=\"7.7\" class=\"atom-10\" style=\"fill:#FB8736;fill-rule:evenodd;stroke:#FB8736;stroke-width:1.0px;stroke-linecap:butt;stroke-linejoin:miter;stroke-opacity:1\"/>\n<ellipse cx=\"233.6\" cy=\"120.6\" rx=\"7.7\" ry=\"7.9\" class=\"atom-11\" style=\"fill:#F3711C;fill-rule:evenodd;stroke:#F3711C;stroke-width:1.0px;stroke-linecap:butt;stroke-linejoin:miter;stroke-opacity:1\"/>\n<ellipse cx=\"259.6\" cy=\"148.8\" rx=\"7.7\" ry=\"7.7\" class=\"atom-12\" style=\"fill:#FDC18B;fill-rule:evenodd;stroke:#FDC18B;stroke-width:1.0px;stroke-linecap:butt;stroke-linejoin:miter;stroke-opacity:1\"/>\n<path class=\"bond-0 atom-0 atom-1\" d=\"M 20.4,134.1 L 36.4,130.5\" style=\"fill:none;fill-rule:evenodd;stroke:#000000;stroke-width:2.0px;stroke-linecap:butt;stroke-linejoin:miter;stroke-opacity:1\"/>\n<path class=\"bond-0 atom-0 atom-1\" d=\"M 36.4,130.5 L 52.5,126.9\" style=\"fill:none;fill-rule:evenodd;stroke:#0000FF;stroke-width:2.0px;stroke-linecap:butt;stroke-linejoin:miter;stroke-opacity:1\"/>\n<path class=\"bond-1 atom-1 atom-2\" d=\"M 60.0,119.0 L 64.6,104.1\" style=\"fill:none;fill-rule:evenodd;stroke:#0000FF;stroke-width:2.0px;stroke-linecap:butt;stroke-linejoin:miter;stroke-opacity:1\"/>\n<path class=\"bond-1 atom-1 atom-2\" d=\"M 64.6,104.1 L 69.3,89.1\" style=\"fill:none;fill-rule:evenodd;stroke:#000000;stroke-width:2.0px;stroke-linecap:butt;stroke-linejoin:miter;stroke-opacity:1\"/>\n<path class=\"bond-2 atom-1 atom-3\" d=\"M 63.2,131.6 L 73.5,142.8\" style=\"fill:none;fill-rule:evenodd;stroke:#0000FF;stroke-width:2.0px;stroke-linecap:butt;stroke-linejoin:miter;stroke-opacity:1\"/>\n<path class=\"bond-2 atom-1 atom-3\" d=\"M 73.5,142.8 L 83.8,154.0\" style=\"fill:none;fill-rule:evenodd;stroke:#000000;stroke-width:2.0px;stroke-linecap:butt;stroke-linejoin:miter;stroke-opacity:1\"/>\n<path class=\"bond-3 atom-3 atom-4\" d=\"M 81.6,151.5 L 76.6,167.2\" style=\"fill:none;fill-rule:evenodd;stroke:#000000;stroke-width:2.0px;stroke-linecap:butt;stroke-linejoin:miter;stroke-opacity:1\"/>\n<path class=\"bond-3 atom-3 atom-4\" d=\"M 76.6,167.2 L 71.7,183.0\" style=\"fill:none;fill-rule:evenodd;stroke:#FF0000;stroke-width:2.0px;stroke-linecap:butt;stroke-linejoin:miter;stroke-opacity:1\"/>\n<path class=\"bond-3 atom-3 atom-4\" d=\"M 87.1,153.3 L 82.1,169.0\" style=\"fill:none;fill-rule:evenodd;stroke:#000000;stroke-width:2.0px;stroke-linecap:butt;stroke-linejoin:miter;stroke-opacity:1\"/>\n<path class=\"bond-3 atom-3 atom-4\" d=\"M 82.1,169.0 L 77.2,184.7\" style=\"fill:none;fill-rule:evenodd;stroke:#FF0000;stroke-width:2.0px;stroke-linecap:butt;stroke-linejoin:miter;stroke-opacity:1\"/>\n<path class=\"bond-4 atom-3 atom-5\" d=\"M 83.8,154.0 L 121.3,145.6\" style=\"fill:none;fill-rule:evenodd;stroke:#000000;stroke-width:2.0px;stroke-linecap:butt;stroke-linejoin:miter;stroke-opacity:1\"/>\n<path class=\"bond-5 atom-5 atom-6\" d=\"M 121.3,145.6 L 132.8,109.0\" style=\"fill:none;fill-rule:evenodd;stroke:#000000;stroke-width:2.0px;stroke-linecap:butt;stroke-linejoin:miter;stroke-opacity:1\"/>\n<path class=\"bond-5 atom-5 atom-6\" d=\"M 127.8,144.2 L 137.3,113.9\" style=\"fill:none;fill-rule:evenodd;stroke:#000000;stroke-width:2.0px;stroke-linecap:butt;stroke-linejoin:miter;stroke-opacity:1\"/>\n<path class=\"bond-6 atom-6 atom-7\" d=\"M 132.8,109.0 L 170.2,100.6\" style=\"fill:none;fill-rule:evenodd;stroke:#000000;stroke-width:2.0px;stroke-linecap:butt;stroke-linejoin:miter;stroke-opacity:1\"/>\n<path class=\"bond-7 atom-7 atom-8\" d=\"M 170.2,100.6 L 196.2,128.9\" style=\"fill:none;fill-rule:evenodd;stroke:#000000;stroke-width:2.0px;stroke-linecap:butt;stroke-linejoin:miter;stroke-opacity:1\"/>\n<path class=\"bond-7 atom-7 atom-8\" d=\"M 168.2,107.0 L 189.7,130.3\" style=\"fill:none;fill-rule:evenodd;stroke:#000000;stroke-width:2.0px;stroke-linecap:butt;stroke-linejoin:miter;stroke-opacity:1\"/>\n<path class=\"bond-8 atom-8 atom-9\" d=\"M 196.2,128.9 L 184.7,165.5\" style=\"fill:none;fill-rule:evenodd;stroke:#000000;stroke-width:2.0px;stroke-linecap:butt;stroke-linejoin:miter;stroke-opacity:1\"/>\n<path class=\"bond-9 atom-9 atom-10\" d=\"M 184.7,165.5 L 147.2,173.9\" style=\"fill:none;fill-rule:evenodd;stroke:#000000;stroke-width:2.0px;stroke-linecap:butt;stroke-linejoin:miter;stroke-opacity:1\"/>\n<path class=\"bond-9 atom-9 atom-10\" d=\"M 180.2,160.6 L 149.2,167.5\" style=\"fill:none;fill-rule:evenodd;stroke:#000000;stroke-width:2.0px;stroke-linecap:butt;stroke-linejoin:miter;stroke-opacity:1\"/>\n<path class=\"bond-10 atom-8 atom-11\" d=\"M 196.2,128.9 L 211.8,125.4\" style=\"fill:none;fill-rule:evenodd;stroke:#000000;stroke-width:2.0px;stroke-linecap:butt;stroke-linejoin:miter;stroke-opacity:1\"/>\n<path class=\"bond-10 atom-8 atom-11\" d=\"M 211.8,125.4 L 227.4,121.9\" style=\"fill:none;fill-rule:evenodd;stroke:#FF0000;stroke-width:2.0px;stroke-linecap:butt;stroke-linejoin:miter;stroke-opacity:1\"/>\n<path class=\"bond-11 atom-11 atom-12\" d=\"M 239.9,127.3 L 249.7,138.0\" style=\"fill:none;fill-rule:evenodd;stroke:#FF0000;stroke-width:2.0px;stroke-linecap:butt;stroke-linejoin:miter;stroke-opacity:1\"/>\n<path class=\"bond-11 atom-11 atom-12\" d=\"M 249.7,138.0 L 259.6,148.8\" style=\"fill:none;fill-rule:evenodd;stroke:#000000;stroke-width:2.0px;stroke-linecap:butt;stroke-linejoin:miter;stroke-opacity:1\"/>\n<path class=\"bond-12 atom-10 atom-5\" d=\"M 147.2,173.9 L 121.3,145.6\" style=\"fill:none;fill-rule:evenodd;stroke:#000000;stroke-width:2.0px;stroke-linecap:butt;stroke-linejoin:miter;stroke-opacity:1\"/>\n<path d=\"M 83.3,153.4 L 83.8,154.0 L 85.7,153.6\" style=\"fill:none;stroke:#000000;stroke-width:2.0px;stroke-linecap:butt;stroke-linejoin:miter;stroke-opacity:1;\"/>\n<path d=\"M 132.2,110.8 L 132.8,109.0 L 134.6,108.6\" style=\"fill:none;stroke:#000000;stroke-width:2.0px;stroke-linecap:butt;stroke-linejoin:miter;stroke-opacity:1;\"/>\n<path d=\"M 168.3,101.0 L 170.2,100.6 L 171.5,102.0\" style=\"fill:none;stroke:#000000;stroke-width:2.0px;stroke-linecap:butt;stroke-linejoin:miter;stroke-opacity:1;\"/>\n<path d=\"M 185.3,163.7 L 184.7,165.5 L 182.8,165.9\" style=\"fill:none;stroke:#000000;stroke-width:2.0px;stroke-linecap:butt;stroke-linejoin:miter;stroke-opacity:1;\"/>\n<path d=\"M 149.1,173.4 L 147.2,173.9 L 145.9,172.5\" style=\"fill:none;stroke:#000000;stroke-width:2.0px;stroke-linecap:butt;stroke-linejoin:miter;stroke-opacity:1;\"/>\n<path class=\"atom-1\" d=\"M 55.5 120.3 L 59.0 126.0 Q 59.4 126.6, 59.9 127.6 Q 60.5 128.7, 60.5 128.7 L 60.5 120.3 L 62.0 120.3 L 62.0 131.2 L 60.5 131.2 L 56.7 124.9 Q 56.2 124.1, 55.7 123.3 Q 55.3 122.4, 55.1 122.2 L 55.1 131.2 L 53.7 131.2 L 53.7 120.3 L 55.5 120.3 \" fill=\"#0000FF\"/>\n<path class=\"atom-4\" d=\"M 67.4 190.6 Q 67.4 188.0, 68.6 186.6 Q 69.9 185.1, 72.3 185.1 Q 74.8 185.1, 76.0 186.6 Q 77.3 188.0, 77.3 190.6 Q 77.3 193.3, 76.0 194.8 Q 74.7 196.3, 72.3 196.3 Q 69.9 196.3, 68.6 194.8 Q 67.4 193.3, 67.4 190.6 M 72.3 195.0 Q 74.0 195.0, 74.9 193.9 Q 75.8 192.8, 75.8 190.6 Q 75.8 188.5, 74.9 187.4 Q 74.0 186.3, 72.3 186.3 Q 70.7 186.3, 69.8 187.4 Q 68.9 188.5, 68.9 190.6 Q 68.9 192.8, 69.8 193.9 Q 70.7 195.0, 72.3 195.0 \" fill=\"#FF0000\"/>\n<path class=\"atom-11\" d=\"M 228.6 120.5 Q 228.6 117.9, 229.9 116.5 Q 231.2 115.0, 233.6 115.0 Q 236.0 115.0, 237.3 116.5 Q 238.6 117.9, 238.6 120.5 Q 238.6 123.2, 237.3 124.7 Q 236.0 126.2, 233.6 126.2 Q 231.2 126.2, 229.9 124.7 Q 228.6 123.2, 228.6 120.5 M 233.6 125.0 Q 235.3 125.0, 236.2 123.8 Q 237.1 122.7, 237.1 120.5 Q 237.1 118.4, 236.2 117.3 Q 235.3 116.3, 233.6 116.3 Q 232.0 116.3, 231.1 117.3 Q 230.2 118.4, 230.2 120.5 Q 230.2 122.7, 231.1 123.8 Q 232.0 125.0, 233.6 125.0 \" fill=\"#FF0000\"/>\n</svg>"
          },
          "metadata": {}
        }
      ]
    }
  ]
}